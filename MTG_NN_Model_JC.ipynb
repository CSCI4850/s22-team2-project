{
 "cells": [
  {
   "cell_type": "code",
   "execution_count": 1,
   "metadata": {},
   "outputs": [],
   "source": [
    "import requests\n",
    "import PIL \n",
    "import os\n",
    "import time\n",
    "\n",
    "import pandas as pd\n",
    "import numpy as np\n",
    "import matplotlib.pyplot as plt\n",
    "import cv2\n",
    "\n",
    "import tensorflow as tf\n",
    "import tensorflow.keras as keras\n",
    "from keras.preprocessing import image\n",
    "from tensorflow.keras import layers\n"
   ]
  },
  {
   "cell_type": "code",
   "execution_count": 2,
   "metadata": {},
   "outputs": [],
   "source": [
    "df = pd.read_csv('MTG_data.csv')#may need to change file name based on where the csv file is in your directory"
   ]
  },
  {
   "cell_type": "code",
   "execution_count": 3,
   "metadata": {},
   "outputs": [],
   "source": [
    "def grab_image(img_path):\n",
    "    i = np.asarray(PIL.Image.open(requests.get(img_path, stream=True).raw))\n",
    "    i = np.expand_dims(i, axis = 0)\n",
    "    return i"
   ]
  },
  {
   "cell_type": "code",
   "execution_count": 4,
   "metadata": {},
   "outputs": [],
   "source": [
    "elm_num = len(df['File_Name']) #for full image set use len(df['File_Name'])"
   ]
  },
  {
   "cell_type": "code",
   "execution_count": 5,
   "metadata": {
    "scrolled": true
   },
   "outputs": [],
   "source": [
    "### Original code for offline access\n",
    "directory = \"C:/Users/16154/Documents/CSCI4850/MTG_data/\"#access into to folder if the notebook is in the same directory as MTG_data\n",
    "\n",
    "x = []#list to convert into an array\n",
    "IMG_SIZE1 = 300 \n",
    "IMG_SIZE2 = 300\n",
    "for item in df['File_Name'][0:elm_num]:#delete index range to access the whole column\n",
    "    img_array = cv2.imread(directory+item)\n",
    "    img_array = cv2.cvtColor(img_array, cv2.COLOR_BGR2RGB)\n",
    "    img_array = cv2.resize(img_array, (IMG_SIZE1, IMG_SIZE2))\n",
    "    x.append(img_array)\n",
    "X = np.asarray(x)\n",
    "\n",
    "#printing a test image from the DF\n",
    "#plt.imshow(X[0])#change index here to change image\n",
    "#plt.show()\n"
   ]
  },
  {
   "cell_type": "markdown",
   "metadata": {},
   "source": [
    "fileNames = 'http://73.88.178.142/img/' + df.File_Name\n",
    "IMG_SIZE1 = 300\n",
    "IMG_SIZE2 = 300\n",
    "\n",
    "#path = Path(fileNames[0])\n",
    "for fileName in fileNames:\n",
    "    fileName = str(fileName)\n",
    "    fileName = fileName.strip\n",
    "    \n",
    "PIC = np.concatenate([grab_image(fileNames[i]) for i in range(elm_num)])#for full image set use range(len(df['File_Name']))\n",
    "\n",
    "X = []#A list to store resized image arrays \n",
    "for i in range(elm_num):#for full image set use range(len(df['File_Name']))\n",
    "    temp = cv2.resize(PIC[i], (IMG_SIZE1, IMG_SIZE2))\n",
    "    temp = cv2.cvtColor(temp, cv2.COLOR_RGBA2RGB)\n",
    "    X.append(temp)\n",
    "    \n",
    "\n",
    "X = np.asarray(X)\n",
    "\n",
    "X.shape"
   ]
  },
  {
   "cell_type": "code",
   "execution_count": 6,
   "metadata": {},
   "outputs": [],
   "source": [
    "def list_2D(r, c):\n",
    "    l = []\n",
    "    for i in range(r):\n",
    "        x = [0] * c\n",
    "        l.append(x)\n",
    "    return np.array(l)"
   ]
  },
  {
   "cell_type": "code",
   "execution_count": 7,
   "metadata": {},
   "outputs": [],
   "source": [
    "#Convert labels from a list of names into one hot encodings\n",
    "#Have the rest of the characters passed the length of the label to a 'null' one hot encoding\n",
    "def labelsToOneHotEncodings_2(arr):    \n",
    "    MAX_NUM_CHARS = 32 * 2 + 4 #Maxium number of characters a label can be\n",
    "    SPECIAL_CHARS = 69 #Maxium number of special characters the one hot encoding will have\n",
    "    count = 0\n",
    "    \n",
    "    #Array to contain each label's one hot encoding, 2-D arrays\n",
    "    encodings = []\n",
    "    \n",
    "    #Convert each label into 2-D array to represent the one hot encoding\n",
    "    for label in arr:\n",
    "        count = count + 1\n",
    "        i,j = -1,0 #Indexes for the postion to mark 1 into the 2-D array\n",
    "        labelMat = list_2D(MAX_NUM_CHARS,SPECIAL_CHARS) #Special Characters by Max Number of Characters\n",
    "        \n",
    "        #Find the location to mark 1 into the one hot encoding that represents each character in the label\n",
    "        for character in label:\n",
    "        #Increase the position of the 2-D matrix to mark by each character in the label\n",
    "            i+=1\n",
    "                        \n",
    "            #Check the character to determine the index of where to mark in the 2-D matrix\n",
    "            if (((ord(character) - ord('a')) >= 0) and ((ord(character) - ord('a')) < 26)):#Lowercase Alphabet\n",
    "                j = ord(character) - ord('a')\n",
    "            elif (((ord(character) - ord('A')) >= 0) and ((ord(character) - ord('A')) < 26)):#Uppercase Alphabet\n",
    "                j = 26 + (ord(character) - ord('A'))\n",
    "            elif (((ord(character) - ord('0')) >= 0) and ((ord(character) - ord('0')) < 10)):#0-9\n",
    "                j = 52 + (ord(character) - ord('0'))\n",
    "            elif (ord(character) == 32):#' '\n",
    "                j = 62\n",
    "            elif (ord(character) == 44):#','\n",
    "                j = 63\n",
    "            elif (ord(character) == 45):#'-'\n",
    "                j = 64\n",
    "            elif (ord(character) == 39):#\"'\"\n",
    "                j = 65\n",
    "            elif (ord(character) == 47):#'/'\n",
    "                j = 66\n",
    "            elif (ord(character) == 64):#'@' null character\n",
    "                j = 68\n",
    "            else: #Garbage\n",
    "                j = 67\n",
    "            \n",
    "            try:\n",
    "                #Mark 1 into the position of the one hot encoding based on the indexes\n",
    "                labelMat[i][j] = 1\n",
    "            except:\n",
    "                #Error Message for determing which label is causing issues for special character debugging\n",
    "                print(label)\n",
    "                print(len(label))\n",
    "                print(count)\n",
    "                break\n",
    "                \n",
    "                \n",
    "        #Fill the rest of the missing characters of the label with the 'null' character one hot encodings\n",
    "        for row in range(len(label),MAX_NUM_CHARS):\n",
    "            labelMat[row][SPECIAL_CHARS-1] = 1\n",
    "        \n",
    "        #Add the one hot encoded matrix of the label into the list of labels' one hot encodings\n",
    "        encodings.append(labelMat)\n",
    "    \n",
    "    #Return the encoded labels, the max number of characters, and the max number of special characters\n",
    "    return np.array(encodings), MAX_NUM_CHARS, SPECIAL_CHARS"
   ]
  },
  {
   "cell_type": "code",
   "execution_count": 8,
   "metadata": {},
   "outputs": [
    {
     "name": "stdout",
     "output_type": "stream",
     "text": [
      "Our Market Research Shows That Players Like Really Long Card Names So We Made this Card to Have the Absolute Longest Card Name Ever Elemental\n",
      "141\n",
      "10773\n"
     ]
    }
   ],
   "source": [
    "Y = []\n",
    "for item in df['name'][0:elm_num]:#\n",
    "    Y.append(item)\n",
    "\n",
    "Y, row, col = labelsToOneHotEncodings_2(Y)"
   ]
  },
  {
   "cell_type": "code",
   "execution_count": 9,
   "metadata": {},
   "outputs": [],
   "source": [
    "def oneHotEncodingToWord(encoding):\n",
    "    #String to capture the word decoded from the one hot encodings\n",
    "    word = \"\"\n",
    "    \n",
    "    #Decode each character in the onehot encoding and add the character to the word\n",
    "    for i in range(len(encoding)):\n",
    "        #Find the index that is the character represented by the one hot encoding\n",
    "        #j = linearsearch(encoding[i],1)\n",
    "        j = np.argmax(encoding[i],-1)\n",
    "        \n",
    "        #Decode the index to represent a special character\n",
    "        #Then apply the character to the end of the word\n",
    "        if (j == 68 or j == 67): #Null or garbage characters\n",
    "            break\n",
    "        elif (j >= 0 and j < 26): #Lowercase Aplhabet\n",
    "            word = word + chr(97 + j)\n",
    "        elif (j >= 26 and j < 52): #Uppercase Aplhabet\n",
    "            j = j - 26\n",
    "            word = word + chr(65 + j)\n",
    "        elif (j >= 52 and j < 62): #Digits (0-9)\n",
    "            j = j - 52\n",
    "            word = word + chr(48 + j)\n",
    "        elif (j == 62): #Space character\n",
    "            word = word + \" \"\n",
    "        elif (j == 63): #Comma character\n",
    "            word = word + ','\n",
    "        elif (j == 64): #Dash character\n",
    "            word = word + '-'\n",
    "        elif (j == 65): #Hyphen charcter\n",
    "            word = word + \"'\"\n",
    "        elif (j == 66): #Foward slash character\n",
    "            word = word + '/'\n",
    "\n",
    "    return word"
   ]
  },
  {
   "cell_type": "code",
   "execution_count": 10,
   "metadata": {},
   "outputs": [
    {
     "data": {
      "text/plain": [
       "'Wall of Roots'"
      ]
     },
     "execution_count": 10,
     "metadata": {},
     "output_type": "execute_result"
    }
   ],
   "source": [
    "oneHotEncodingToWord(Y[9])"
   ]
  },
  {
   "cell_type": "code",
   "execution_count": 13,
   "metadata": {},
   "outputs": [],
   "source": [
    "#https://www.tensorflow.org/api_docs/python/tf/keras/preprocessing/image/ImageDataGenerator\n",
    "\n",
    "data_generator = keras.preprocessing.image.ImageDataGenerator(\n",
    "    width_shift_range=0.0,\n",
    "    height_shift_range=0.0,\n",
    "    rotation_range=0,\n",
    "    zoom_range=0.0,\n",
    "    horizontal_flip=False)\n",
    "split_point = int(0.8*elm_num)\n",
    "dg_trainer = data_generator.flow(X[:split_point],\n",
    "                                 Y[:split_point],\n",
    "                                 batch_size=32)"
   ]
  },
  {
   "cell_type": "code",
   "execution_count": 14,
   "metadata": {},
   "outputs": [
    {
     "name": "stdout",
     "output_type": "stream",
     "text": [
      "Model: \"model\"\n",
      "_________________________________________________________________\n",
      " Layer (type)                Output Shape              Param #   \n",
      "=================================================================\n",
      " input_1 (InputLayer)        [(None, 300, 300, 3)]     0         \n",
      "                                                                 \n",
      " conv2d (Conv2D)             (None, 293, 293, 64)      12352     \n",
      "                                                                 \n",
      " max_pooling2d (MaxPooling2D  (None, 73, 73, 64)       0         \n",
      " )                                                               \n",
      "                                                                 \n",
      " dropout (Dropout)           (None, 73, 73, 64)        0         \n",
      "                                                                 \n",
      " conv2d_1 (Conv2D)           (None, 66, 66, 128)       524416    \n",
      "                                                                 \n",
      " max_pooling2d_1 (MaxPooling  (None, 16, 16, 128)      0         \n",
      " 2D)                                                             \n",
      "                                                                 \n",
      " dropout_1 (Dropout)         (None, 16, 16, 128)       0         \n",
      "                                                                 \n",
      " flatten (Flatten)           (None, 32768)             0         \n",
      "                                                                 \n",
      " dense (Dense)               (None, 4692)              153752148 \n",
      "                                                                 \n",
      " reshape (Reshape)           (None, 68, 69)            0         \n",
      "                                                                 \n",
      " bidirectional (Bidirectiona  (None, 68, 256)          202752    \n",
      " l)                                                              \n",
      "                                                                 \n",
      " bidirectional_1 (Bidirectio  (None, 68, 128)          164352    \n",
      " nal)                                                            \n",
      "                                                                 \n",
      " flatten_1 (Flatten)         (None, 8704)              0         \n",
      "                                                                 \n",
      " dense_1 (Dense)             (None, 4692)              40843860  \n",
      "                                                                 \n",
      " reshape_1 (Reshape)         (None, 68, 69)            0         \n",
      "                                                                 \n",
      "=================================================================\n",
      "Total params: 195,499,880\n",
      "Trainable params: 195,499,880\n",
      "Non-trainable params: 0\n",
      "_________________________________________________________________\n"
     ]
    }
   ],
   "source": [
    "initializer = tf.keras.initializers.RandomNormal(mean=0., stddev=1.)\n",
    "values = initializer(shape=(300, 300))\n",
    "\n",
    "x = keras.layers.Input(X.shape[1:])#Keep this\n",
    "y = x#Keep this\n",
    "y = keras.layers.Conv2D(64, kernel_size=(8,8), activation='relu')(y)\n",
    "y = keras.layers.MaxPooling2D(pool_size=(4,4))(y)\n",
    "y = keras.layers.Dropout(0.2)(y)\n",
    "y = keras.layers.Conv2D(128, kernel_size=(8,8), activation='relu')(y)\n",
    "y = keras.layers.MaxPooling2D(pool_size=(4,4))(y)\n",
    "y = keras.layers.Dropout(0.2)(y)\n",
    "y = keras.layers.Flatten()(y)\n",
    "y = keras.layers.Dense(4692)(y)#Keep this\n",
    "y = keras.layers.Reshape((68,69))(y)#Keep this\n",
    "\n",
    "y = keras.layers.Bidirectional(layers.LSTM(128, return_sequences=True, dropout=0.25))(y)\n",
    "y = keras.layers.Bidirectional(layers.LSTM(64, return_sequences=True, dropout=0.25))(y)\n",
    "\n",
    "y = keras.layers.Flatten()(y)\n",
    "y = keras.layers.Dense(4692)(y)#Keep this\n",
    "y = keras.layers.Reshape((68,69))(y)#Keep this\n",
    "\n",
    "model = keras.Model(x,y)\n",
    "model.compile(loss=keras.losses.CategoricalCrossentropy(),\n",
    "              optimizer=keras.optimizers.Adam(),\n",
    "              metrics=[keras.metrics.CategoricalAccuracy()])\n",
    "model.summary()"
   ]
  },
  {
   "cell_type": "code",
   "execution_count": null,
   "metadata": {},
   "outputs": [],
   "source": [
    "keras.utils.plot_model(model,show_shapes=True,expand_nested=True)"
   ]
  },
  {
   "cell_type": "code",
   "execution_count": 15,
   "metadata": {
    "scrolled": false
   },
   "outputs": [
    {
     "name": "stdout",
     "output_type": "stream",
     "text": [
      "Epoch 1/5\n",
      "757/757 [==============================] - 4761s 6s/step - loss: 13.8995 - categorical_accuracy: 0.4444 - val_loss: 14.0089 - val_categorical_accuracy: 0.4593\n",
      "Epoch 2/5\n",
      "757/757 [==============================] - 3731s 5s/step - loss: 13.6986 - categorical_accuracy: 0.4567 - val_loss: 13.9213 - val_categorical_accuracy: 0.4593\n",
      "Epoch 3/5\n",
      "757/757 [==============================] - 3834s 5s/step - loss: 13.6676 - categorical_accuracy: 0.4608 - val_loss: 13.3310 - val_categorical_accuracy: 0.4593\n",
      "Epoch 4/5\n",
      "757/757 [==============================] - 3768s 5s/step - loss: 13.6348 - categorical_accuracy: 0.4487 - val_loss: 13.9102 - val_categorical_accuracy: 0.4455\n",
      "Epoch 5/5\n",
      "757/757 [==============================] - 3805s 5s/step - loss: 13.5819 - categorical_accuracy: 0.4406 - val_loss: 13.8546 - val_categorical_accuracy: 0.4466\n"
     ]
    }
   ],
   "source": [
    "epochs = 5\n",
    "history = model.fit(dg_trainer,\n",
    "                    epochs=epochs,\n",
    "                    verbose=1,\n",
    "                    validation_data = (X[split_point:],Y[split_point:]))"
   ]
  },
  {
   "cell_type": "code",
   "execution_count": 16,
   "metadata": {},
   "outputs": [
    {
     "data": {
      "image/png": "[encoded data removed]",
      "text/plain": [
       "<Figure size 432x288 with 2 Axes>"
      ]
     },
     "metadata": {
      "needs_background": "light"
     },
     "output_type": "display_data"
    }
   ],
   "source": [
    "plt.figure(1)\n",
    "\n",
    "# summarize history for accuracy\n",
    "\n",
    "plt.subplot(211)\n",
    "plt.plot(history.history['categorical_accuracy'])\n",
    "plt.plot(history.history['val_categorical_accuracy'])\n",
    "plt.ylabel('Accuracy (P)')\n",
    "plt.xlabel('Epochs')\n",
    "plt.legend(['Training', 'Validation'], loc='lower right')\n",
    "\n",
    "# summarize history for loss\n",
    "\n",
    "plt.subplot(212)\n",
    "plt.plot(history.history['loss'])\n",
    "plt.plot(history.history['val_loss'])\n",
    "plt.ylabel('Loss')\n",
    "plt.xlabel('Epochs')\n",
    "plt.legend(['Training', 'Validation'], loc='upper right')\n",
    "plt.tight_layout()\n",
    "plt.show() \n"
   ]
  },
  {
   "cell_type": "markdown",
   "metadata": {},
   "source": [
    "## Reference code"
   ]
  },
  {
   "cell_type": "markdown",
   "metadata": {},
   "source": [
    "### Oringinal Code for accessing the files online\n",
    "\n",
    "fileNames = 'http://73.88.178.142/img/' + df.File_Name\n",
    "IMG_SIZE1 = 300\n",
    "IMG_SIZE2 = 300\n",
    "\n",
    "#path = Path(fileNames[0])\n",
    "for fileName in fileNames:\n",
    "    fileName = str(fileName)\n",
    "    fileName = fileName.strip\n",
    "\n",
    "#pics = []\n",
    "#for i in range(10):\n",
    "    #I = np.asarray(PIL.Image.open(requests.get(fileNames[i], stream=True).raw))\n",
    "    #pics.append(I)\n",
    "\n",
    "\n",
    "PIC = np.concatenate([grab_image(fileNames[i]) for i in range(10)])#for full image set use range(len(df['File_Name']))\n",
    "#print(I.shape)\n",
    "#im = Image.open(requests.get(fileNames[0], stream=True).raw)\n",
    "\n",
    "#path.name\n",
    "#print(fileNames[0])\n",
    "#type(fileNames[0])\n",
    "#pic = np.concatenate(grab_image(requests.get(fileNames[0], stream=True).raw))\n",
    "#print(pics[0].shape)\n",
    "for i in range(10):\n",
    "    plt.imshow(image.array_to_img(PIC[i]))\n",
    "    plt.show()"
   ]
  },
  {
   "cell_type": "markdown",
   "metadata": {},
   "source": [
    "### Onehot Encoder 1st gen\n",
    "\n",
    "#Convert labels from a list of names into one hot encodings\n",
    "#Have one null character for the full one hot encoding of the label\n",
    "def labelsToOneHotEncodings(arr):\n",
    "    #Add 'null' special character to each label\n",
    "    arr = [each_string + \"@\" for each_string in arr]\n",
    "    \n",
    "    MAX_NUM_CHARS = 32 #Maxium number of characters a label can be\n",
    "    SPECIAL_CHARS = 69 #Maxium number of special characters the one hot encoding will have\n",
    "    \n",
    "    #Array to contain each label's one hot encoding, 2-D arrays\n",
    "    encodings = []\n",
    "    \n",
    "    #Convert each label into 2-D array to represent the one hot encoding\n",
    "    for label in arr:\n",
    "        i,j = -1,0 #Indexes for the postion to mark 1 into the 2-D array\n",
    "        labelMat = list_2D(MAX_NUM_CHARS,SPECIAL_CHARS) #Special Characters by Max Number of Characters\n",
    "        \n",
    "        #Find the location to mark 1 into the one hot encoding that represents each character in the label\n",
    "        for character in label:\n",
    "            #Increase the position of the 2-D matrix to mark by each character in the label\n",
    "            i+=1\n",
    "                        \n",
    "            #Check the character to determine the index of where to mark in the 2-D matrix\n",
    "            if (((ord(character) - ord('a')) >= 0) and ((ord(character) - ord('a')) < 26)):#Lowercase Alphabet\n",
    "                j = ord(character) - ord('a')\n",
    "            elif (((ord(character) - ord('A')) >= 0) and ((ord(character) - ord('A')) < 26)):#Uppercase Alphabet\n",
    "                j = 26 + (ord(character) - ord('A'))\n",
    "            elif (((ord(character) - ord('0')) >= 0) and ((ord(character) - ord('0')) < 10)):#0-9\n",
    "                j = 52 + (ord(character) - ord('0'))\n",
    "            elif (ord(character) == 32):#' '\n",
    "                j = 62\n",
    "            elif (ord(character) == 44):#','\n",
    "                j = 63\n",
    "            elif (ord(character) == 45):#'-'\n",
    "                j = 64\n",
    "            elif (ord(character) == 39):#\"'\"\n",
    "                j = 65\n",
    "            elif (ord(character) == 47):#'/'\n",
    "                j = 66\n",
    "            elif (ord(character) == 64):#'@'\n",
    "                j = 68\n",
    "            else: #Garbage\n",
    "                j = 67\n",
    "            \n",
    "            #Mark 1 into the position of the one hot encoding based on the indexes\n",
    "            try:\n",
    "                labelMat[i][j] = 1\n",
    "            except:\n",
    "                #Error Message for determing the value of this index for special character debugging\n",
    "                print(j)\n",
    "        \n",
    "        #Add the one hot encoded matrix of the label into the list of labels' one hot encodings\n",
    "        encodings.append(labelMat)\n",
    "        \n",
    "    #Return the encoded labels, the max number of characters, and the max number of special characters\n",
    "    return np.array(encodings), MAX_NUM_CHARS, SPECIAL_CHARS"
   ]
  },
  {
   "cell_type": "code",
   "execution_count": null,
   "metadata": {},
   "outputs": [],
   "source": []
  }
 ],
 "metadata": {
  "kernelspec": {
   "display_name": "Python 3",
   "language": "python",
   "name": "python3"
  },
  "language_info": {
   "codemirror_mode": {
    "name": "ipython",
    "version": 3
   },
   "file_extension": ".py",
   "mimetype": "text/x-python",
   "name": "python",
   "nbconvert_exporter": "python",
   "pygments_lexer": "ipython3",
   "version": "3.8.3"
  }
 },
 "nbformat": 4,
 "nbformat_minor": 4
}
