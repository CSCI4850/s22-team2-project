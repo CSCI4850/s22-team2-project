{
 "cells": [
  {
   "cell_type": "code",
   "execution_count": 1,
   "id": "082b9ccb-afaa-4546-89ea-7bda6fef7885",
   "metadata": {},
   "outputs": [],
   "source": [
    "import pandas as pd\n",
    "import numpy as np\n",
    "import tensorflow.keras as keras\n",
    "import tensorflow as tf\n",
    "import matplotlib.pyplot as plt"
   ]
  },
  {
   "cell_type": "code",
   "execution_count": 2,
   "id": "d79d0990-85df-418d-b58a-f667185cf425",
   "metadata": {},
   "outputs": [],
   "source": [
    "def list_2D(r, c):\n",
    "    l = []\n",
    "    for i in range(r):\n",
    "        x = [0] * c\n",
    "        l.append(x)\n",
    "    return np.array(l)"
   ]
  },
  {
   "cell_type": "code",
   "execution_count": 3,
   "id": "025688be-1ead-44bd-ad0c-02cd62a55abe",
   "metadata": {},
   "outputs": [],
   "source": [
    "#Convert labels from a list of names into one hot encodings\n",
    "#Have one null character for the full one hot encoding of the label\n",
    "def labelsToOneHotEncodings(arr):\n",
    "    #Add 'null' special character to each label\n",
    "    arr = [each_string + \"@\" for each_string in arr]\n",
    "    \n",
    "    MAX_NUM_CHARS = 32 * 2 + 4 #Maxium number of characters a label can be\n",
    "    SPECIAL_CHARS = 69 #Maxium number of special characters the one hot encoding will have\n",
    "    count = 0\n",
    "    \n",
    "    #Array to contain each label's one hot encoding, 2-D arrays\n",
    "    encodings = []\n",
    "    \n",
    "    #Convert each label into 2-D array to represent the one hot encoding\n",
    "    for label in arr:\n",
    "        i,j = -1,0 #Indexes for the postion to mark 1 into the 2-D array\n",
    "        labelMat = list_2D(MAX_NUM_CHARS,SPECIAL_CHARS) #Special Characters by Max Number of Characters\n",
    "        count = count + 1\n",
    "        \n",
    "        #Find the location to mark 1 into the one hot encoding that represents each character in the label\n",
    "        for character in label:\n",
    "            #Increase the position of the 2-D matrix to mark by each character in the label\n",
    "            i+=1\n",
    "                        \n",
    "            #Check the character to determine the index of where to mark in the 2-D matrix\n",
    "            if (((ord(character) - ord('a')) >= 0) and ((ord(character) - ord('a')) < 26)):#Lowercase Alphabet\n",
    "                j = ord(character) - ord('a')\n",
    "            elif (((ord(character) - ord('A')) >= 0) and ((ord(character) - ord('A')) < 26)):#Uppercase Alphabet\n",
    "                j = 26 + (ord(character) - ord('A'))\n",
    "            elif (((ord(character) - ord('0')) >= 0) and ((ord(character) - ord('0')) < 10)):#0-9\n",
    "                j = 52 + (ord(character) - ord('0'))\n",
    "            elif (ord(character) == 32):#' '\n",
    "                j = 62\n",
    "            elif (ord(character) == 44):#','\n",
    "                j = 63\n",
    "            elif (ord(character) == 45):#'-'\n",
    "                j = 64\n",
    "            elif (ord(character) == 39):#\"'\"\n",
    "                j = 65\n",
    "            elif (ord(character) == 47):#'/'\n",
    "                j = 66\n",
    "            elif (ord(character) == 64):#'@'\n",
    "                j = 68\n",
    "            else: #Garbage\n",
    "                j = 67\n",
    "            \n",
    "            #Mark 1 into the position of the one hot encoding based on the indexes\n",
    "            try:\n",
    "                labelMat[i][j] = 1\n",
    "            except:\n",
    "                #Error Message for determing which label is causing issues for special character debugging\n",
    "                print(label)\n",
    "                print(count)\n",
    "                break\n",
    "        \n",
    "        #Add the one hot encoded matrix of the label into the list of labels' one hot encodings\n",
    "        encodings.append(labelMat)\n",
    "        \n",
    "    #Return the encoded labels, the max number of characters, and the max number of special characters\n",
    "    return np.array(encodings), MAX_NUM_CHARS, SPECIAL_CHARS"
   ]
  },
  {
   "cell_type": "code",
   "execution_count": 4,
   "id": "87201942-f819-4fc8-93ce-f5868113a4ce",
   "metadata": {},
   "outputs": [],
   "source": [
    "#Convert labels from a list of names into one hot encodings\n",
    "#Have the rest of the characters passed the length of the label to a 'null' one hot encoding\n",
    "def labelsToOneHotEncodings_2(arr):    \n",
    "    MAX_NUM_CHARS = 32 * 2 + 4 #Maxium number of characters a label can be\n",
    "    SPECIAL_CHARS = 69 #Maxium number of special characters the one hot encoding will have\n",
    "    count = 0\n",
    "    \n",
    "    #Array to contain each label's one hot encoding, 2-D arrays\n",
    "    encodings = []\n",
    "    \n",
    "    #Convert each label into 2-D array to represent the one hot encoding\n",
    "    for label in arr:\n",
    "        count = count + 1\n",
    "        i,j = -1,0 #Indexes for the postion to mark 1 into the 2-D array\n",
    "        labelMat = list_2D(MAX_NUM_CHARS,SPECIAL_CHARS) #Special Characters by Max Number of Characters\n",
    "        \n",
    "        #Find the location to mark 1 into the one hot encoding that represents each character in the label\n",
    "        for character in label:\n",
    "        #Increase the position of the 2-D matrix to mark by each character in the label\n",
    "            i+=1\n",
    "                        \n",
    "            #Check the character to determine the index of where to mark in the 2-D matrix\n",
    "            if (((ord(character) - ord('a')) >= 0) and ((ord(character) - ord('a')) < 26)):#Lowercase Alphabet\n",
    "                j = ord(character) - ord('a')\n",
    "            elif (((ord(character) - ord('A')) >= 0) and ((ord(character) - ord('A')) < 26)):#Uppercase Alphabet\n",
    "                j = 26 + (ord(character) - ord('A'))\n",
    "            elif (((ord(character) - ord('0')) >= 0) and ((ord(character) - ord('0')) < 10)):#0-9\n",
    "                j = 52 + (ord(character) - ord('0'))\n",
    "            elif (ord(character) == 32):#' '\n",
    "                j = 62\n",
    "            elif (ord(character) == 44):#','\n",
    "                j = 63\n",
    "            elif (ord(character) == 45):#'-'\n",
    "                j = 64\n",
    "            elif (ord(character) == 39):#\"'\"\n",
    "                j = 65\n",
    "            elif (ord(character) == 47):#'/'\n",
    "                j = 66\n",
    "            elif (ord(character) == 64):#'@' null character\n",
    "                j = 68\n",
    "            else: #Garbage\n",
    "                j = 67\n",
    "            \n",
    "            try:\n",
    "                #Mark 1 into the position of the one hot encoding based on the indexes\n",
    "                labelMat[i][j] = 1\n",
    "            except:\n",
    "                #Error Message for determing which label is causing issues for special character debugging\n",
    "                print(label)\n",
    "                print(len(label))\n",
    "                print(count)\n",
    "                break\n",
    "                \n",
    "                \n",
    "        #Fill the rest of the missing characters of the label with the 'null' character one hot encodings\n",
    "        for row in range(len(label),MAX_NUM_CHARS):\n",
    "            labelMat[row][SPECIAL_CHARS-1] = 1\n",
    "        \n",
    "        #Add the one hot encoded matrix of the label into the list of labels' one hot encodings\n",
    "        encodings.append(labelMat)\n",
    "    \n",
    "    #Return the encoded labels, the max number of characters, and the max number of special characters\n",
    "    return np.array(encodings), MAX_NUM_CHARS, SPECIAL_CHARS"
   ]
  },
  {
   "cell_type": "code",
   "execution_count": 1,
   "id": "b2be91f5-dade-4c3c-a680-db30e046500c",
   "metadata": {},
   "outputs": [],
   "source": [
    "def linearsearch(arr, x):\n",
    "    for i in range(len(arr)):\n",
    "        if arr[i] == x:\n",
    "            return i\n",
    "    return -1"
   ]
  },
  {
   "cell_type": "code",
   "execution_count": 6,
   "id": "4412cba3-c6c2-4e69-bbc3-184be7afdc83",
   "metadata": {},
   "outputs": [],
   "source": [
    "def oneHotEncodingToWord(encoding):\n",
    "    #String to capture the word decoded from the one hot encodings\n",
    "    word = \"\"\n",
    "    \n",
    "    #Decode each character in the onehot encoding and add the character to the word\n",
    "    for i in range(len(encoding)):\n",
    "        #Find the index that is the character represented by the one hot encoding\n",
    "        #j = linearsearch(encoding[i],1)\n",
    "        j = np.argmax(encoding[i],-1)\n",
    "        \n",
    "        #Decode the index to represent a special character\n",
    "        #Then apply the character to the end of the word\n",
    "        if (j == 68 or j == 67): #Null or garbage characters\n",
    "            break\n",
    "        elif (j >= 0 and j < 26): #Lowercase Aplhabet\n",
    "            word = word + chr(97 + j)\n",
    "        elif (j >= 26 and j < 52): #Uppercase Aplhabet\n",
    "            j = j - 26\n",
    "            word = word + chr(65 + j)\n",
    "        elif (j >= 52 and j < 62): #Digits (0-9)\n",
    "            j = j - 52\n",
    "            word = word + chr(48 + j)\n",
    "        elif (j == 62): #Space character\n",
    "            word = word + \" \"\n",
    "        elif (j == 63): #Comma character\n",
    "            word = word + ','\n",
    "        elif (j == 64): #Dash character\n",
    "            word = word + '-'\n",
    "        elif (j == 65): #Hyphen charcter\n",
    "            word = word + \"'\"\n",
    "        elif (j == 66): #Foward slash character\n",
    "            word = word + '/'\n",
    "\n",
    "    return word"
   ]
  },
  {
   "cell_type": "code",
   "execution_count": 7,
   "id": "87b63ef3-75b7-4622-831c-8176fe4c8f77",
   "metadata": {},
   "outputs": [],
   "source": [
    "x = [\"Magical Hacker\",\"Asmoranomardicadaistinaculdacar\",\"Jar Jar Binks\",\"Darth Vader\",\"Struggle // Survive\",\n",
    "     \"abcdefghijklmnopqrstuvwxyz\",\"ABCDEF123456789\"]"
   ]
  },
  {
   "cell_type": "code",
   "execution_count": 8,
   "id": "2fb8ac11-2524-48a2-b392-9bcbbe72808b",
   "metadata": {},
   "outputs": [],
   "source": [
    "test1, rows, cols = labelsToOneHotEncodings(x)\n",
    "test2, rows, cols = labelsToOneHotEncodings_2(x)"
   ]
  },
  {
   "cell_type": "code",
   "execution_count": 9,
   "id": "3ae9e7f0-4746-4b10-901e-385428991a2b",
   "metadata": {},
   "outputs": [
    {
     "data": {
      "text/plain": [
       "'Struggle // Survive'"
      ]
     },
     "execution_count": 9,
     "metadata": {},
     "output_type": "execute_result"
    }
   ],
   "source": [
    "oneHotEncodingToWord(test2[4])"
   ]
  },
  {
   "cell_type": "code",
   "execution_count": 10,
   "id": "a4eecd31-308c-4a18-a9e9-08f3f67702aa",
   "metadata": {},
   "outputs": [
    {
     "data": {
      "text/plain": [
       "'Struggle // Survive'"
      ]
     },
     "execution_count": 10,
     "metadata": {},
     "output_type": "execute_result"
    }
   ],
   "source": [
    "x[4]"
   ]
  },
  {
   "cell_type": "code",
   "execution_count": 11,
   "id": "2ec8f1f4-0e6d-4d46-b60a-386792dee63f",
   "metadata": {},
   "outputs": [
    {
     "data": {
      "text/plain": [
       "array([[0, 0, 0, ..., 0, 0, 0],\n",
       "       [0, 0, 0, ..., 0, 0, 0],\n",
       "       [0, 0, 0, ..., 0, 0, 0],\n",
       "       ...,\n",
       "       [0, 0, 0, ..., 0, 0, 1],\n",
       "       [0, 0, 0, ..., 0, 0, 1],\n",
       "       [0, 0, 0, ..., 0, 0, 1]])"
      ]
     },
     "execution_count": 11,
     "metadata": {},
     "output_type": "execute_result"
    }
   ],
   "source": [
    "test2[4]"
   ]
  },
  {
   "cell_type": "code",
   "execution_count": 12,
   "id": "c6a5d960-8a8e-4ba3-9c93-f4782367256d",
   "metadata": {},
   "outputs": [
    {
     "data": {
      "text/plain": [
       "array([[0, 0, 0, ..., 0, 0, 0],\n",
       "       [0, 0, 0, ..., 0, 0, 0],\n",
       "       [0, 0, 0, ..., 0, 0, 0],\n",
       "       ...,\n",
       "       [0, 0, 0, ..., 0, 0, 0],\n",
       "       [0, 0, 0, ..., 0, 0, 0],\n",
       "       [0, 0, 0, ..., 0, 0, 0]])"
      ]
     },
     "execution_count": 12,
     "metadata": {},
     "output_type": "execute_result"
    }
   ],
   "source": [
    "test1[4]"
   ]
  },
  {
   "cell_type": "code",
   "execution_count": 13,
   "id": "cbb0ee5b-0044-4f74-a883-63d2f5c93459",
   "metadata": {},
   "outputs": [
    {
     "name": "stdout",
     "output_type": "stream",
     "text": [
      "       Unnamed: 0                 name   set collector_number  \\\n",
      "0               0          Fury Sliver   tsp              157   \n",
      "1               1        Kor Outfitter   zen               21   \n",
      "2               2        Siren Lookout   xln               78   \n",
      "3               3     Venerable Knight   eld               35   \n",
      "4               4             Wildcall  ugin              146   \n",
      "...           ...                  ...   ...              ...   \n",
      "30266       30660    Tezzeret's Gambit   nph               47   \n",
      "30267       30661      Morkrut Banshee   isd              110   \n",
      "30268       30662       Celestine Reef  phop               42   \n",
      "30269       30663         Horned Troll   8ed              257   \n",
      "30270       30664  Exultant Skymarcher   rix                7   \n",
      "\n",
      "                           File_Name  \n",
      "0            tsp-157-fury-sliver.png  \n",
      "1           zen-21-kor-outfitter.png  \n",
      "2           xln-78-siren-lookout.png  \n",
      "3        eld-35-venerable-knight.png  \n",
      "4              ugin-146-wildcall.png  \n",
      "...                              ...  \n",
      "30266   nph-47-tezzeret-s-gambit.png  \n",
      "30267    isd-110-morkrut-banshee.png  \n",
      "30268     phop-42-celestine-reef.png  \n",
      "30269       8ed-257-horned-troll.png  \n",
      "30270  rix-7-exultant-skymarcher.png  \n",
      "\n",
      "[30271 rows x 5 columns]\n"
     ]
    }
   ],
   "source": [
    "# Read the csv file\n",
    "data = pd.read_csv('./MTG_data.csv')\n",
    "\n",
    "# Print it out if you want\n",
    "print(data)\n",
    "\n",
    "#Make the list of labels from the cvs\n",
    "Labels = data.name"
   ]
  },
  {
   "cell_type": "code",
   "execution_count": 57,
   "id": "bd788efd-f522-44c6-b361-b517f2fd374e",
   "metadata": {},
   "outputs": [
    {
     "name": "stdout",
     "output_type": "stream",
     "text": [
      "Predicted 0  : Wollcniabi i\n",
      "Predicted 1  : Wolloniabk ie\n",
      "Predicted 2  : Wollcniabk ie\n",
      "Predicted 3  : Wollcniabr it\n",
      "Predicted 4  : Wollcnia\n",
      "Predicted 5  : Wollo iabi i\n",
      "Predicted 6  : Wollcniabi ie\n",
      "Predicted 7  : Wolloniabi i\n",
      "Predicted 8  : Wollc iabi o\n",
      "Predicted 9  : Wollcniabi i\n",
      "Predicted 10  : Wollcniabi i\n",
      "Predicted 11  : Solloniabi i\n",
      "Predicted 12  : Wollcniabi i\n",
      "Predicted 13  : Wollcniabi i\n",
      "Predicted 14  : Wollcniabk ie\n",
      "Predicted 15  : Wollctiabk ie\n",
      "Predicted 16  : Wollcniabk ie\n",
      "Predicted 17  : Wolloniabi i\n",
      "Predicted 18  : Wolloniabi i\n",
      "Predicted 19  : Wollo iabi ie\n",
      "Predicted 20  : Wollcniabi i\n",
      "Predicted 21  : Wollonia\n",
      "Predicted 22  : Sollcniabi i\n",
      "Predicted 23  : Wollcniabk i\n",
      "Predicted 24  : Solloniabi it\n"
     ]
    }
   ],
   "source": [
    "#Predictions from the Reading Neural Network\n",
    "preds = model.predict(PIC)\n",
    "\n",
    "#Decode the predictions into words\n",
    "for i in range(25):\n",
    "    print('Predicted', i, ' :', oneHotEncodingToWord(preds[i]))\n",
    "    \n",
    "#preds"
   ]
  },
  {
   "cell_type": "code",
   "execution_count": null,
   "id": "bc2ce4e2-02ed-4d0c-b012-445fa4d82b03",
   "metadata": {},
   "outputs": [],
   "source": []
  }
 ],
 "metadata": {
  "kernelspec": {
   "display_name": "Python 3 (ipykernel)",
   "language": "python",
   "name": "python3"
  },
  "language_info": {
   "codemirror_mode": {
    "name": "ipython",
    "version": 3
   },
   "file_extension": ".py",
   "mimetype": "text/x-python",
   "name": "python",
   "nbconvert_exporter": "python",
   "pygments_lexer": "ipython3",
   "version": "3.9.7"
  }
 },
 "nbformat": 4,
 "nbformat_minor": 5
}
