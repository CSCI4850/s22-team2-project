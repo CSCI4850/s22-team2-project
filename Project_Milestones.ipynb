{
 "cells": [
  {
   "cell_type": "markdown",
   "id": "00ade34a-2dc2-4501-8fb9-62a32b0fc978",
   "metadata": {},
   "source": [
    "| Deliverable | % Complete | Est. Completetion Date | % Complete by Next Milestone\n",
    "| --- | --- | --- | --- |\n",
    "| Code | 1% | April 26th | 10% |\n",
    "| Demo | 0% | May 3rd| 0% |\n",
    "| Presentation | 0% | May 3rd | 0% |"
   ]
  },
  {
   "cell_type": "markdown",
   "id": "fa05c38f-d93f-45b1-a3a1-1adaf9ce62b5",
   "metadata": {},
   "source": [
    "<b> Q1: What deliverable goals established in the last milestone report <u>were accomplished</u> to the\n",
    "anticipated percentage?</b>\n",
    "\n",
    "N/A"
   ]
  },
  {
   "cell_type": "markdown",
   "id": "379aabd8-482f-477f-981d-262fcc251fe7",
   "metadata": {},
   "source": [
    "<b> Q2: What deliverable goals established in the last milestone report <u>were not accomplished</u> to the\n",
    "anticipated percentage?\n",
    "</b>\n",
    "\n",
    "N/A"
   ]
  },
  {
   "cell_type": "markdown",
   "id": "754ba1c6-538c-427b-81da-3b6e009e69a8",
   "metadata": {
    "tags": []
   },
   "source": [
    "<b> Q3: What are the main deliverable goals to meet before the next milestone report, and who is working\n",
    "on them?</b>\n",
    "\n",
    "We hope to complete the clean data set so that we can begin using it on all neural network tests going forward.<br>\n",
    "---This will be primarily focused on by Joseph Cooper.\n",
    "\n",
    "Next, we hope to set up a format to take in a given MtG card and use it as an input for the neural network.<br>\n",
    "---This will be worked on by both Ronnie Jackson and Joseph Cooper.\n",
    "\n",
    "Then, we want to begin construction a rudimentary neural net to test how it handles the clean data set to see if we can get a baseline accuracy to work from.<br>\n",
    "---Everyone is working on their own version of a rudimentary neural net. The best version will be debated afterwards.\n",
    "\n",
    "Fourth, while it will not be finished by next week, we want to have something around two hundred images of real world images (images taken with a physical camera).<br>\n",
    "---This data set will have construction started by Zachary Kent.\n",
    "\n",
    "Finally, we want to come up a good format for displaying the output layer in the most easy to read way.<br>\n",
    "---This is primarily focused on by Ronnie Jackson and Christopher Andrews.\n",
    "\n",
    "In the meantime, we will also be looking into the possibility of having a second neural network that focuses on converting an image so that a given card is in the correct orientation.<br>\n",
    "---This will be spearheaded by Terrell McIllwain."
   ]
  }
 ],
 "metadata": {
  "kernelspec": {
   "display_name": "Python 3 (ipykernel)",
   "language": "python",
   "name": "python3"
  },
  "language_info": {
   "codemirror_mode": {
    "name": "ipython",
    "version": 3
   },
   "file_extension": ".py",
   "mimetype": "text/x-python",
   "name": "python",
   "nbconvert_exporter": "python",
   "pygments_lexer": "ipython3",
   "version": "3.9.7"
  }
 },
 "nbformat": 4,
 "nbformat_minor": 5
}
