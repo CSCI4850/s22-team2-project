{
 "cells": [
  {
   "cell_type": "markdown",
   "id": "00ade34a-2dc2-4501-8fb9-62a32b0fc978",
   "metadata": {},
   "source": [
    "| Deliverable | % Complete | Est. Completetion Date | % Complete by Next Milestone\n",
    "| --- | --- | --- | --- |\n",
    "| Code | 1% | April 26th | 10% |\n",
    "| Demo | 0% | May 3rd| 0% |\n",
    "| Presentation | 0% | May 3rd | 0% |"
   ]
  },
  {
   "cell_type": "markdown",
   "id": "fa05c38f-d93f-45b1-a3a1-1adaf9ce62b5",
   "metadata": {},
   "source": [
    "<b> Q1: What deliverable goals established in the last milestone report <u>were accomplished</u> to the\n",
    "anticipated percentage?</b>\n",
    "\n",
    "N/A"
   ]
  },
  {
   "cell_type": "markdown",
   "id": "379aabd8-482f-477f-981d-262fcc251fe7",
   "metadata": {},
   "source": [
    "<b> Q2: What deliverable goals established in the last milestone report <u>were not accomplished</u> to the\n",
    "anticipated percentage?\n",
    "</b>\n",
    "\n",
    "N/A"
   ]
  },
  {
   "cell_type": "markdown",
   "id": "754ba1c6-538c-427b-81da-3b6e009e69a8",
   "metadata": {
    "tags": []
   },
   "source": [
    "<b> Q3: What are the main deliverable goals to meet before the next milestone report, and who is working\n",
    "on them?</b>\n",
    "\n",
    "We hope to complete the clean data set so that we can begin using it on all neural network tests going forward.<br>\n",
    "---This will be primarily focused on by Joseph Cooper.\n",
    "\n",
    "Next, we hope to set up a format to take in a given MtG card and use it as an input for the neural network.<br>\n",
    "---This will be worked on by both Ronnie Jackson and Joseph Cooper.\n",
    "\n",
    "Then, we want to begin construction a rudimentary neural net to test how it handles the clean data set to see if we can get a baseline accuracy to work from.<br>\n",
    "---Everyone is working on their own version of a rudimentary neural net. The best version will be debated afterwards.\n",
    "\n",
    "Fourth, while it will not be finished by next week, we want to have something around two hundred images of 'noisy' images (imperfect images of MtG cards).<br>\n",
    "---This data set will have construction started by Zachary Kent.\n",
    "\n",
    "Finally, we want to come up a good format for displaying the output layer in the most easy to read way.<br>\n",
    "---This is primarily focused on by Ronnie Jackson and Christopher Andrews.\n",
    "\n",
    "In the meantime, we will also be looking into the possibility of having a second neural network that focuses on converting an image so that a given card is in the correct orientation.<br>\n",
    "---This will be spearheaded by Terrell McIllwain."
   ]
  },
  {
   "cell_type": "markdown",
   "id": "03b71f3b-1ca9-4fa8-8197-04a389559a4b",
   "metadata": {},
   "source": [
    "<hr>"
   ]
  },
  {
   "cell_type": "markdown",
   "id": "03b71f3b-1ca9-4fa8-8197-04a389559a4b",
   "metadata": {},
   "source": [
    "<hr>"
   ]
  },
  {
   "cell_type": "markdown",
   "id": "1f87c0bc-2d95-4492-b30d-ddf5703a52f0",
   "metadata": {},
   "source": [
    "| Deliverable | % Complete | Est. Completetion Date | % Complete by Next Milestone\n",
    "| --- | --- | --- | --- |\n",
    "| Code | 8% | April 26th | 22% |\n",
    "| Demo | 0% | May 2nd| 0% |\n",
    "| Presentation | 0% | May 2nd | 5% |"
   ]
  },
  {
   "cell_type": "markdown",
   "id": "79c3fd71-dbef-4111-9c4e-51f7d7a8aa48",
   "metadata": {},
   "source": [
    "<b> Q1: What deliverable goals established in the last milestone report <u>were accomplished</u> to the\n",
    "anticipated percentage?</b>\n",
    "\n",
    "--> The clean data set was completed. Every image is uniform in terms of pixel size. We now plan to convert it into a .csv file as the dataset is over 50GB.<br>\n",
    "<br>\n",
    "--> Both the format for the input and the output has been created. We will now have an idea for what the beginning and end of the system should look like going into testing.<br>\n",
    "<br>\n",
    "--> We have determined a method of taking in a given card image at any orientation and correcting it. The input and output need to be similar enough (such as pixel size) to where it does not alter the second neural net."
   ]
  },
  {
   "cell_type": "markdown",
   "id": "d1304408-c64b-4523-acdf-6cc1d15cee92",
   "metadata": {},
   "source": [
    "<b> Q2: What deliverable goals established in the last milestone report <u>were not accomplished</u> to the\n",
    "anticipated percentage?\n",
    "</b>\n",
    "\n",
    "--> We were not able to begin work on neural nets to test our clean data set. After the data set has been converted to a .csv file, everyone will be able to start utilizing the data set.<br>\n",
    "<br>\n",
    "--> We did not reach 200 real life images. So far, we have around 120."
   ]
  },
  {
   "cell_type": "markdown",
   "id": "8dd099b8-7590-46e3-9a91-3394e6b48ce2",
   "metadata": {},
   "source": [
    "<b> Q3: What are the main deliverable goals to meet before the next milestone report, and who is working\n",
    "on them?</b><br>\n",
    "<br>\n",
    "--> The first goal we intend on reaching is converting our clean data set into a working .csv file so that everyone can use the data to build their individual base systems. Terrell will take point on this.<br>\n",
    "<br>\n",
    "\n",
    "--> Terrell will also begin creating the rotation neural net so that it can turn images of cards to have the correct orientation. This sets up the images so that the primary neural network can recognize the card's outline more accurately.<br>\n",
    "<br>\n",
    "--> Our primary goal for this week is for each of us to build small neural net systems to test methods for our primary neural network. Since everyone will be building their own, we will meet up to demo and explain each model before deciding on one that we will use for the main project moving forward. This is a task that everyone will work on at once.<br>\n",
    "<br>\n",
    "--> We will continue building real life examples of the data set. After reaching 300 images, we will begin converting them into a .csv file seperate from the clean data set. Zachary will continue to work on this.<br>\n",
    "<br>\n",
    "--> Also, we will start focusing more on the outputs of the system. This will be done by taking the vector the system makes with the characters it discoveres from a given card's name and convert it back into a readable word the user can find after execution. This will be focused primarily by Ronnie.<br>\n",
    "<br>\n",
    "--> As some of the methods and input/outputs have been drafted, we can begin brainstorming how we want our presentation to look. We know the goal and direction of our project now so we can begin to put that into the beginning of what will become our presentation."
   ]
  },
  {
   "cell_type": "code",
   "execution_count": null,
   "id": "8e24bd92-8459-4840-a4dd-6bd6f68b9f0f",
   "metadata": {},
   "outputs": [],
   "source": []
  }
 ],
 "metadata": {
  "kernelspec": {
   "display_name": "Python 3 (ipykernel)",
   "language": "python",
   "name": "python3"
  },
  "language_info": {
   "codemirror_mode": {
    "name": "ipython",
    "version": 3
   },
   "file_extension": ".py",
   "mimetype": "text/x-python",
   "name": "python",
   "nbconvert_exporter": "python",
   "pygments_lexer": "ipython3",
   "version": "3.9.7"
  }
 },
 "nbformat": 4,
 "nbformat_minor": 5
}
