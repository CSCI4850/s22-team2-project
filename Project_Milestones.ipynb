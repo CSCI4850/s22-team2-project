{
 "cells": [
  {
   "cell_type": "markdown",
   "id": "00ade34a-2dc2-4501-8fb9-62a32b0fc978",
   "metadata": {},
   "source": [
    "| Deliverable | % Complete | Est. Completetion Date | % Complete by Next Milestone\n",
    "| --- | --- | --- | --- |\n",
    "| Code | 1% | April 26th | 10% |\n",
    "| Demo | 0% | May 3rd| 0% |\n",
    "| Presentation | 0% | May 3rd | 0% |"
   ]
  },
  {
   "cell_type": "markdown",
   "id": "fa05c38f-d93f-45b1-a3a1-1adaf9ce62b5",
   "metadata": {},
   "source": [
    "<b> Q1: What deliverable goals established in the last milestone report <u>were accomplished</u> to the\n",
    "anticipated percentage?</b>\n",
    "\n",
    "N/A"
   ]
  },
  {
   "cell_type": "markdown",
   "id": "379aabd8-482f-477f-981d-262fcc251fe7",
   "metadata": {},
   "source": [
    "<b> Q2: What deliverable goals established in the last milestone report <u>were not accomplished</u> to the\n",
    "anticipated percentage?\n",
    "</b>\n",
    "\n",
    "N/A"
   ]
  },
  {
   "cell_type": "markdown",
   "id": "754ba1c6-538c-427b-81da-3b6e009e69a8",
   "metadata": {
    "tags": []
   },
   "source": [
    "<b> Q3: What are the main deliverable goals to meet before the next milestone report, and who is working\n",
    "on them?</b>\n",
    "\n",
    "We hope to complete the clean data set so that we can begin using it on all neural network tests going forward.<br>\n",
    "---This will be primarily focused on by Joseph Cooper.\n",
    "\n",
    "Next, we hope to set up a format to take in a given MtG card and use it as an input for the neural network.<br>\n",
    "---This will be worked on by both Ronnie Jackson and Joseph Cooper.\n",
    "\n",
    "Then, we want to begin construction a rudimentary neural net to test how it handles the clean data set to see if we can get a baseline accuracy to work from.<br>\n",
    "---Everyone is working on their own version of a rudimentary neural net. The best version will be debated afterwards.\n",
    "\n",
    "Fourth, while it will not be finished by next week, we want to have something around two hundred images of 'noisy' images (imperfect images of MtG cards).<br>\n",
    "---This data set will have construction started by Zachary Kent.\n",
    "\n",
    "Finally, we want to come up a good format for displaying the output layer in the most easy to read way.<br>\n",
    "---This is primarily focused on by Ronnie Jackson and Christopher Andrews.\n",
    "\n",
    "In the meantime, we will also be looking into the possibility of having a second neural network that focuses on converting an image so that a given card is in the correct orientation.<br>\n",
    "---This will be spearheaded by Terrell McIllwain."
   ]
  },
  {
   "cell_type": "markdown",
   "id": "03b71f3b-1ca9-4fa8-8197-04a389559a4b",
   "metadata": {},
   "source": [
    "<hr><hr>"
   ]
  },
  {
   "cell_type": "markdown",
   "id": "1f87c0bc-2d95-4492-b30d-ddf5703a52f0",
   "metadata": {},
   "source": [
    "| Deliverable | % Complete | Est. Completetion Date | % Complete by Next Milestone\n",
    "| --- | --- | --- | --- |\n",
    "| Code | 8% | April 26th | 22% |\n",
    "| Demo | 0% | May 2nd| 0% |\n",
    "| Presentation | 0% | May 2nd | 5% |"
   ]
  },
  {
   "cell_type": "markdown",
   "id": "79c3fd71-dbef-4111-9c4e-51f7d7a8aa48",
   "metadata": {},
   "source": [
    "<b> Q1: What deliverable goals established in the last milestone report <u>were accomplished</u> to the\n",
    "anticipated percentage?</b>\n",
    "\n",
    "--> The clean data set was completed. Every image is uniform in terms of pixel size. We now plan to convert it into a .csv file as the dataset is over 50GB.<br>\n",
    "<br>\n",
    "--> Both the format for the input and the output has been created. We will now have an idea for what the beginning and end of the system should look like going into testing.<br>\n",
    "<br>\n",
    "--> We have determined a method of taking in a given card image at any orientation and correcting it. The input and output need to be similar enough (such as pixel size) to where it does not alter the second neural net."
   ]
  },
  {
   "cell_type": "markdown",
   "id": "d1304408-c64b-4523-acdf-6cc1d15cee92",
   "metadata": {},
   "source": [
    "<b> Q2: What deliverable goals established in the last milestone report <u>were not accomplished</u> to the\n",
    "anticipated percentage?\n",
    "</b>\n",
    "\n",
    "--> We were not able to begin work on neural nets to test our clean data set. After the data set has been converted to a .csv file, everyone will be able to start utilizing the data set.<br>\n",
    "<br>\n",
    "--> We did not reach 200 real life images. So far, we have around 120."
   ]
  },
  {
   "cell_type": "markdown",
   "id": "8dd099b8-7590-46e3-9a91-3394e6b48ce2",
   "metadata": {},
   "source": [
    "<b> Q3: What are the main deliverable goals to meet before the next milestone report, and who is working\n",
    "on them?</b><br>\n",
    "<br>\n",
    "--> The first goal we intend on reaching is converting our clean data set into a working .csv file so that everyone can use the data to build their individual base systems. Terrell will take point on this.<br>\n",
    "<br>\n",
    "\n",
    "--> Terrell will also begin creating the rotation neural net so that it can turn images of cards to have the correct orientation. This sets up the images so that the primary neural network can recognize the card's outline more accurately.<br>\n",
    "<br>\n",
    "--> Our primary goal for this week is for each of us to build small neural net systems to test methods for our primary neural network. Since everyone will be building their own, we will meet up to demo and explain each model before deciding on one that we will use for the main project moving forward. This is a task that everyone will work on at once.<br>\n",
    "<br>\n",
    "--> We will continue building real life examples of the data set. After reaching 300 images, we will begin converting them into a .csv file seperate from the clean data set. Zachary will continue to work on this.<br>\n",
    "<br>\n",
    "--> Also, we will start focusing more on the outputs of the system. This will be done by taking the vector the system makes with the characters it discoveres from a given card's name and convert it back into a readable word the user can find after execution. This will be focused primarily by Ronnie.<br>\n",
    "<br>\n",
    "--> As some of the methods and input/outputs have been drafted, we can begin brainstorming how we want our presentation to look. We know the goal and direction of our project now so we can begin to put that into the beginning of what will become our presentation."
   ]
  },
  {
   "cell_type": "markdown",
   "id": "6f81099b-62fc-48d8-be29-0792006810ca",
   "metadata": {},
   "source": [
    "<hr><hr>"
   ]
  },
  {
   "cell_type": "markdown",
   "id": "3fc8449c-b677-4c69-8b9f-1000d65fee9f",
   "metadata": {},
   "source": [
    "| Deliverable | % Complete | Est. Completetion Date | % Complete by Next Milestone\n",
    "| --- | --- | --- | --- |\n",
    "| Code | 20% | April 26th | 35% |\n",
    "| Demo | 0% | May 2nd| 0% |\n",
    "| Presentation | 5% | May 2nd | 20% |"
   ]
  },
  {
   "cell_type": "markdown",
   "id": "ae328b19-df8e-44f0-8035-6969b78469f2",
   "metadata": {
    "tags": []
   },
   "source": [
    "<b> Q1: What deliverable goals established in the last milestone report <u>were accomplished</u> to the\n",
    "anticipated percentage?</b>\n",
    "\n",
    "--> We have all the clean data within a .csv file to begin testing/building neural networks.<br>\n",
    "<br>\n",
    "--> We have over 300 images of real life images. Some have been taken with a clean background and others with busier backgrounds. Although, after speaking with Dr. Phillips, we have decided to create more than the initial 300 images.<br>\n",
    "<br>\n",
    "--> Terrell has made progress on the rotation neural nets but will need to continue working on it to have it implemented into the main system.<br>\n",
    "<br>\n",
    "--> We have a concept for how the presentation will look and in what way it is formatted to go over how the project was constructed.<br>\n",
    "<br>\n",
    "--> Some of the group were able to create neural network prototypes and from them we have run into other issues that have needed to be addressed. We will continue making more prototypes until we have a fully working prototype."
   ]
  },
  {
   "cell_type": "markdown",
   "id": "cc808967-cf54-4eb8-b97e-e381551b1f9c",
   "metadata": {
    "tags": []
   },
   "source": [
    "<b> Q2: What deliverable goals established in the last milestone report <u>were NOT accomplished</u> to the\n",
    "anticipated percentage?</b><br>\n",
    "<br>\n",
    "--> While we do not have a solid concept for how the output layer will look, Ronnie is in the process of researching methods for making the output layer more correct.<br>\n",
    "<br>\n",
    "--> With the small neural net systems group members have made, we have not gotten them to work as intended yet. The group will continue working on them.<br>\n",
    "<br>"
   ]
  },
  {
   "cell_type": "markdown",
   "id": "a8ca012f-f7e9-4ad7-92e7-bada11e8b2dc",
   "metadata": {
    "tags": []
   },
   "source": [
    "<b> Q3: What are the main deliverable goals to meet before the next milestone report, and who is working\n",
    "on them?</b><br>\n",
    "<br>\n",
    "--> We will resize the Magic the Gathering cards to a smaller pixel size for ease of convolution layers going through each of them. Joseph Cooper will be resizing the images.<br>\n",
    "<br>\n",
    "--> We are trying to increase the number of real life images to 600, with varying levels of 'natural difficulty' for the system to handle. This can include having iamges at an angle, part of the image cut off, the background having multiple focuses that is not the card, and more than one card in a given image. Zachary Kent will be working on this.<br>\n",
    "<br>\n",
    "--> The output layer will continue to be researched so that it can give the desired outputs. Our initial method for this will be by way of masking layers. Ronnie Jackson will be focusing on this.<br>\n",
    "<br>\n",
    "--> The group will be fine-tuning the input layer so that it can pull down the clean data set from the network's hard drive. Joseph Cooper will focusing on this.<br>\n",
    "<br>\n",
    "--> The first neural net in the program that rotates and centers cards is to be finished or in a tested phase by the next milestone. Terrell McIllwain is set to finish this network.<br>\n",
    "<br>\n",
    "--> With the presentation format decided, we will lay out powerpoint slides for the portion directed at what our aims and goals were for the project starting out and where we took those goals to focus them into a tangible network. Both Zachary Kent and Christopher Andrews will be designing the starting slides of the presentation.<br>\n",
    "<br>\n",
    "--> As the group focuses on their goals, we will each continue to create and work on individual neural networks to try and demo a small system that will act as the base of the final version of the system. This will be done individually by each member; Zachary Kent, Terrell McIllwain, Joseph Cooper, Ronnie Jackson, and Christopher Andrews."
   ]
  },
  {
   "cell_type": "markdown",
   "id": "204d3ef4-0799-4ebe-8799-6c15922d604e",
   "metadata": {},
   "source": [
    "<hr><hr>"
   ]
  },
  {
   "cell_type": "markdown",
   "id": "e35e929c-2900-41f8-8766-93b7be67f4a5",
   "metadata": {
    "tags": []
   },
   "source": [
   "| Deliverable | % Complete | Est. Completetion Date | % Complete by Next Milestone\n",
   "| --- | --- | --- | --- |\n",
   "| Code | 30% | April 26th | 40% |\n",
   "| Demo | 0% | May 2nd| 0% |\n",
   "| Presentation | 8% | May 2nd | 25% |"
   ]
  },
  {
   "cell_type": "markdown",
   "id": "563faa23-b31e-4250-a882-9c021257500c",
   "metadata": {},
   "source": [
   "<b> Q1: What deliverable goals established in the last milestone report <u>were accomplished</u> to the anticipated percentage?</b>",
   "--> We have the Magic card images all successfully resized to a uniform pixel size of 300 x 300. They can be resized to anything for ease of testing from now on.<br>",
   "<br>",
   "--> Currently, we have around 450 images of real life images. Every 150 or so images have busier backgrounds allowing for tests on how well the system can read information from a given card.<br>",
   "<br>",
   "--> The neural net for specifically finding the right orientation of cards has entered testing phases. Additional advancements will be added as the month continues.<br>",
   "<br>",
   "--> With the group models, we have reached a stage where we have begun debugging the network. Once it has been debugged, we can begin throwing optimization methods and design choices to get it at its best accuracy during training."
   ]
  },
  {
   "cell_type": "markdown",
   "id": "7296d5f1-0d45-4b76-a91a-aba5f5364f12",
   "metadata": {},
   "source": [
   "<b> Q2: What deliverable goals established in the last milestone report <u>were NOT accomplished</u> to the anticipated percentage?</b><br>",
   "--> The output layer was not able to get completed by this report. Continued progress will be taken to complete it.<br>",
   "<br>",
   "--> Scheduling issues kept the group from meeting up to discuss the presentation past anything other than a slight outline. A new time has been scheduled for team members to work on the presentation.<br>"
   ]
  },
  {
   "cell_type": "markdown",
   "id": "a1b2eaba-207a-4c8a-abec-5f527e07d76b",
   "metadata": {},
   "source": [
   "<b> Q3: What are the main deliverable goals to meet before the next milestone report, and who is working on them?</b><br>",
   "<br>",
   "--> The output layer will be further worked on to complete it in time for the final system. We still plan on doing this by way of masking layers and Ronnie Jackson will continue working on this.<br>",
   "<br>",
   "--> The rotation neural net will undergo advancements over the next week by Terrell McIllwain.<br>",
   "<br>",
   "--> During the next week, the presentation will be discussed to prepare solid ideas as to the aim and scope of the project. We will also try to determine who should speak about which subject and when. This will be focused on by Christopher Andrews and Zachary Kent.<br>",
   "<br>",
   "--> The final 150 real life images will be completed by Zachary Kent. Once all photos have been taken, Zachary will then proceed to name all the photos so that they can be put through a program to be turned into a data set.<br>",
   "<br>",
   "--> Now that we have a working model for what the neural net will look like, we will proceed to debug it until it can successfully run as intended. This will be focused on by Joseph Cooper.<br>",
   "<br>",
   "--> Design and optimize neural network as well as add layers to help network learn properly. This will be focused on by Joseph Cooper but the idea will be workshopped by the others in the group as well, including Ronnie Jackson, Terrell McIllwain, Zachary Kent, and Christopher Andrews."
   ]
  },
  {
   "cell_type": "markdown",
   "id": "f62cd1a9-44c8-4be5-b175-a1e7e77fc002",
   "metadata": {},
   "source": [
    "<hr><hr>"
   ]
  },
  {
   "cell_type": "markdown",
   "id": "c549b5c0-0fb6-40b6-9611-41529dc724a1",
   "metadata": {
    "tags": []
   },
   "source": []
  },
  {
   "cell_type": "markdown",
   "id": "2122c4d5-e3c4-475c-a364-46f3abc8d656",
   "metadata": {},
   "source": []
  },
  {
   "cell_type": "markdown",
   "id": "410fd55f-0ddf-48ab-8cb3-d6ebf4edc6b6",
   "metadata": {
    "tags": []
   },
   "source": []
  },
  {
   "cell_type": "markdown",
   "id": "6a0305a4-75df-4eb1-a8f4-117420f3d732",
   "metadata": {
    "tags": []
   },
   "source": []
  },
  {
   "cell_type": "markdown",
   "id": "b2a8efaa-5c39-44b9-b8fe-998ac594ce04",
   "metadata": {},
   "source": [
    "<hr><hr>"
   ]
  },
  {
   "cell_type": "markdown",
   "id": "e039b96f-5814-4648-b7ef-7517214fd356",
   "metadata": {},
   "source": []
  },
  {
   "cell_type": "markdown",
   "id": "dab1ba3a-8ddb-4b18-aa0b-786f9af95360",
   "metadata": {},
   "source": []
  },
  {
   "cell_type": "markdown",
   "id": "954d9608-d78a-4ae9-843b-dacb8998ea4e",
   "metadata": {},
   "source": []
  },
  {
   "cell_type": "markdown",
   "id": "083d7f05-1ca5-4a1e-a7af-2b50cec8b2dc",
   "metadata": {},
   "source": []
  },
  {
   "cell_type": "markdown",
   "id": "3a478f3c-0d69-41dd-ac1f-45cd35d1ff2d",
   "metadata": {},
   "source": [
    "<hr><hr>"
   ]
  }
 ],
 "metadata": {
  "kernelspec": {
   "display_name": "Python 3 (ipykernel)",
   "language": "python",
   "name": "python3"
  },
  "language_info": {
   "codemirror_mode": {
    "name": "ipython",
    "version": 3
   },
   "file_extension": ".py",
   "mimetype": "text/x-python",
   "name": "python",
   "nbconvert_exporter": "python",
   "pygments_lexer": "ipython3",
   "version": "3.9.7"
  }
 },
 "nbformat": 4,
 "nbformat_minor": 5
}
