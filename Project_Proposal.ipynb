{
 "cells": [
  {
   "cell_type": "markdown",
   "id": "d002f990-5568-4b16-9e50-bdde12f54cbd",
   "metadata": {},
   "source": [
    "The purpose of our project is to have a system capable of identifying a given Magic the Gathering (MtG) card from a list of, currently, over 20,000 cards. In order to do so, the neural net will try to focus on one or two specific points of the card whenever possible in order to correctly identify the card.<br><br>\n",
    "To begin, we will acquire the data set of clean digital scans of all MtG cards. Once we collect and label them properly, we can construct a prototype network and train it to differentiate between each card. Once we establish a baseline with the clean scans, ensuring that the accuracy is good enough, we will begin creating new data sets to train the network with. With each new stage of testing, the data sets will be more diverse as it keeps the clean scans but includes images containing ‘noise.’ This noise can come in the form of blurry images, images with high or low brightness, cards not centered in frame, images with other things in the frame, or cards that are rotated in a different direction. This may include multiple ‘noisy’ data sets that are procedurally more difficult for the network to identify.<br><br>\n",    
    "The network itself is to act as a messenger, taking a noisy image during a test, comparing it with the library of MtG cards it has learned from, and returning what it believes is the card that most accurately matches it. The name of that returned card is then output as the neural net’s answer.<br><br>\n",
    "We do not expect the system to become perfectly accurate by the end of these tests, although we will attempt to make the net as accurate as we can. To do this, we will focus on two key aspects of any given MtG card; the nameplate and the image of a given card. We will attempt to have the neural net identify the nameplate first by recognizing the letters and storing what letters it finds within an array. The longest MtG card name contains exactly thirty-one characters and by filling the array with a character unused by any of the cards. Then the neural net will then take however much of the name it can read successfully and apply it to that array to help find the correct card that matches that name.<br><br>\n",
    "In order to have the neural net double check its result, or in the event that the system cannot discern the name of a given card, it will look for the image of the card as well. The image of each card is also introduced to the system from the initial clean scan data set. If the network finds one result from the nameplate and one result from the image that are different from each other, then the system will default to what the nameplate result is.<br><br>\n",
    "One issue that may come up is the difference in card format. MtG is a long-standing card game that has modernized their cards several times to become easier to read and make the cards less cluttered with information. Because of this, the system will need to adapt to not only different orientations of test pictures provided. The system will also need to recognize different card formats. Aside from a change in font color and a minimal font size difference, the nameplates of all MtG cards remain largely the same. This means that the method we hope to identify cards with will not be affected too greatly by format changes. It will instead add a minor layer of ‘noise’ to identify the cards."
   ]
  }
 ],
 "metadata": {
  "kernelspec": {
   "display_name": "Python 3 (ipykernel)",
   "language": "python",
   "name": "python3"
  },
  "language_info": {
   "codemirror_mode": {
    "name": "ipython",
    "version": 3
   },
   "file_extension": ".py",
   "mimetype": "text/x-python",
   "name": "python",
   "nbconvert_exporter": "python",
   "pygments_lexer": "ipython3",
   "version": "3.9.7"
  }
 },
 "nbformat": 4,
 "nbformat_minor": 5
}
