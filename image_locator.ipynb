{
 "cells": [
  {
   "cell_type": "code",
   "execution_count": 1,
   "metadata": {
    "ExecuteTime": {
     "end_time": "2016-07-03T16:03:53.170000",
     "start_time": "2016-07-03T16:03:52.500000"
    },
    "collapsed": true
   },
   "outputs": [
    {
     "name": "stdout",
     "output_type": "stream",
     "text": [
      "Requirement already satisfied: keras in /home/terrell/Desktop/Image_finder/.venv/lib/python3.10/site-packages (2.8.0)\n"
     ]
    },
    {
     "name": "stderr",
     "output_type": "stream",
     "text": [
      "2022-04-18 14:15:29.293062: W tensorflow/stream_executor/platform/default/dso_loader.cc:64] Could not load dynamic library 'libcudart.so.11.0'; dlerror: libcudart.so.11.0: cannot open shared object file: No such file or directory\n",
      "2022-04-18 14:15:29.293087: I tensorflow/stream_executor/cuda/cudart_stub.cc:29] Ignore above cudart dlerror if you do not have a GPU set up on your machine.\n"
     ]
    }
   ],
   "source": [
    "! pip install keras\n",
    "import numpy as np\n",
    "import matplotlib.pyplot as plt\n",
    "import matplotlib\n",
    "from keras.optimizers import gradient_descent_v2\n",
    "sgd = gradient_descent_v2.SGD(...)\n",
    "%matplotlib inline"
   ]
  },
  {
   "cell_type": "code",
   "execution_count": 2,
   "metadata": {
    "ExecuteTime": {
     "end_time": "2016-07-03T16:16:34.666000",
     "start_time": "2016-07-03T16:16:28.832000"
    },
    "collapsed": false
   },
   "outputs": [
    {
     "data": {
      "text/plain": [
       "((50000, 16, 16), (50000, 2, 4))"
      ]
     },
     "execution_count": 2,
     "metadata": {},
     "output_type": "execute_result"
    }
   ],
   "source": [
    "num_imgs = 50000\n",
    "\n",
    "img_size = 16\n",
    "min_rect_size = 3\n",
    "max_rect_size = 8\n",
    "num_objects = 2\n",
    "\n",
    "bboxes = np.zeros((num_imgs, num_objects, 4))\n",
    "imgs = np.zeros((num_imgs, img_size, img_size))\n",
    "shapes = np.zeros((num_imgs, num_objects, 1))\n",
    "\n",
    "for i_img in range(num_imgs):\n",
    "    for i_object in range(num_objects):\n",
    "        if np.random.choice([True, False]):\n",
    "            width, height = np.random.randint(min_rect_size, max_rect_size, size=2)\n",
    "            x = np.random.randint(0, img_size - width)\n",
    "            y = np.random.randint(0, img_size - height)\n",
    "            imgs[i_img, x:x+width, y:y+height] = 1.\n",
    "            bboxes[i_img, i_object] = [x, y, width, height]\n",
    "            shapes[i_img, i_object] = [0]\n",
    "        else:\n",
    "            size = np.random.randint(min_rect_size, max_rect_size)\n",
    "            x, y = np.random.randint(0, img_size - size, size=2)\n",
    "            mask = np.tril_indices(size)\n",
    "            imgs[i_img, x + mask[0], y + mask[1]] = 1.\n",
    "            bboxes[i_img, i_object] = [x, y, size, size]\n",
    "            shapes[i_img, i_object] = [1]\n",
    "            \n",
    "imgs.shape, bboxes.shape"
   ]
  },
  {
   "cell_type": "code",
   "execution_count": 3,
   "metadata": {
    "ExecuteTime": {
     "end_time": "2016-07-03T16:16:38.997000",
     "start_time": "2016-07-03T16:16:38.662000"
    },
    "collapsed": false
   },
   "outputs": [
    {
     "data": {
      "image/png": "[encoded data removed]",
      "text/plain": [
       "<Figure size 432x288 with 1 Axes>"
      ]
     },
     "metadata": {
      "needs_background": "light"
     },
     "output_type": "display_data"
    }
   ],
   "source": [
    "i = 0\n",
    "# TODO: Why does the array have to be transposed?\n",
    "plt.imshow(imgs[i].T, cmap='Greys', interpolation='none', origin='lower', extent=[0, img_size, 0, img_size])\n",
    "for bbox, shape in zip(bboxes[i], shapes[i]):\n",
    "    plt.gca().add_patch(matplotlib.patches.Rectangle((bbox[0], bbox[1]), bbox[2], bbox[3], ec='r' if shape[0] == 0 else 'y', fc='none'))"
   ]
  },
  {
   "cell_type": "code",
   "execution_count": 4,
   "metadata": {
    "ExecuteTime": {
     "end_time": "2016-07-03T16:16:41.668000",
     "start_time": "2016-07-03T16:16:41.115000"
    },
    "collapsed": false
   },
   "outputs": [
    {
     "data": {
      "text/plain": [
       "((50000, 256), -5.892397680895556e-17, 1.0000000000000004)"
      ]
     },
     "execution_count": 4,
     "metadata": {},
     "output_type": "execute_result"
    }
   ],
   "source": [
    "X = (imgs.reshape(num_imgs, -1) - np.mean(imgs)) / np.std(imgs)\n",
    "X.shape, np.mean(X), np.std(X)"
   ]
  },
  {
   "cell_type": "code",
   "execution_count": 5,
   "metadata": {
    "ExecuteTime": {
     "end_time": "2016-07-03T16:16:42.640000",
     "start_time": "2016-07-03T16:16:42.627000"
    },
    "collapsed": false
   },
   "outputs": [
    {
     "data": {
      "text/plain": [
       "(50000, 10)"
      ]
     },
     "execution_count": 5,
     "metadata": {},
     "output_type": "execute_result"
    }
   ],
   "source": [
    "y = np.concatenate([bboxes / img_size, shapes], axis=-1).reshape(num_imgs, -1)\n",
    "y.shape"
   ]
  },
  {
   "cell_type": "code",
   "execution_count": 6,
   "metadata": {
    "ExecuteTime": {
     "end_time": "2016-07-03T16:16:43.445000",
     "start_time": "2016-07-03T16:16:43.437000"
    },
    "collapsed": true
   },
   "outputs": [],
   "source": [
    "i = int(0.8 * num_imgs)\n",
    "train_X = X[:i]\n",
    "test_X = X[i:]\n",
    "train_y = y[:i]\n",
    "test_y = y[i:]\n",
    "test_imgs = imgs[i:]\n",
    "test_bboxes = bboxes[i:]"
   ]
  },
  {
   "cell_type": "code",
   "execution_count": 7,
   "metadata": {
    "ExecuteTime": {
     "end_time": "2016-07-03T16:16:44.266000",
     "start_time": "2016-07-03T16:16:44.145000"
    },
    "collapsed": false
   },
   "outputs": [
    {
     "name": "stderr",
     "output_type": "stream",
     "text": [
      "2022-04-18 14:15:36.520739: I tensorflow/stream_executor/cuda/cuda_gpu_executor.cc:936] successful NUMA node read from SysFS had negative value (-1), but there must be at least one NUMA node, so returning NUMA node zero\n",
      "2022-04-18 14:15:36.521085: W tensorflow/stream_executor/platform/default/dso_loader.cc:64] Could not load dynamic library 'libcudart.so.11.0'; dlerror: libcudart.so.11.0: cannot open shared object file: No such file or directory\n",
      "2022-04-18 14:15:36.521130: W tensorflow/stream_executor/platform/default/dso_loader.cc:64] Could not load dynamic library 'libcublas.so.11'; dlerror: libcublas.so.11: cannot open shared object file: No such file or directory\n",
      "2022-04-18 14:15:36.521164: W tensorflow/stream_executor/platform/default/dso_loader.cc:64] Could not load dynamic library 'libcublasLt.so.11'; dlerror: libcublasLt.so.11: cannot open shared object file: No such file or directory\n",
      "2022-04-18 14:15:36.521198: W tensorflow/stream_executor/platform/default/dso_loader.cc:64] Could not load dynamic library 'libcufft.so.10'; dlerror: libcufft.so.10: cannot open shared object file: No such file or directory\n",
      "2022-04-18 14:15:36.521232: W tensorflow/stream_executor/platform/default/dso_loader.cc:64] Could not load dynamic library 'libcurand.so.10'; dlerror: libcurand.so.10: cannot open shared object file: No such file or directory\n",
      "2022-04-18 14:15:36.521265: W tensorflow/stream_executor/platform/default/dso_loader.cc:64] Could not load dynamic library 'libcusolver.so.11'; dlerror: libcusolver.so.11: cannot open shared object file: No such file or directory\n",
      "2022-04-18 14:15:36.521298: W tensorflow/stream_executor/platform/default/dso_loader.cc:64] Could not load dynamic library 'libcusparse.so.11'; dlerror: libcusparse.so.11: cannot open shared object file: No such file or directory\n",
      "2022-04-18 14:15:36.521331: W tensorflow/stream_executor/platform/default/dso_loader.cc:64] Could not load dynamic library 'libcudnn.so.8'; dlerror: libcudnn.so.8: cannot open shared object file: No such file or directory\n",
      "2022-04-18 14:15:36.521338: W tensorflow/core/common_runtime/gpu/gpu_device.cc:1850] Cannot dlopen some GPU libraries. Please make sure the missing libraries mentioned above are installed properly if you would like to use GPU. Follow the guide at https://www.tensorflow.org/install/gpu for how to download and setup the required libraries for your platform.\n",
      "Skipping registering GPU devices...\n",
      "2022-04-18 14:15:36.522087: I tensorflow/core/platform/cpu_feature_guard.cc:151] This TensorFlow binary is optimized with oneAPI Deep Neural Network Library (oneDNN) to use the following CPU instructions in performance-critical operations:  AVX2 FMA\n",
      "To enable them in other operations, rebuild TensorFlow with the appropriate compiler flags.\n"
     ]
    }
   ],
   "source": [
    "from keras.models import Sequential\n",
    "from keras.layers import Dense, Activation, Dropout\n",
    "# from keras.optimizers import SGD\n",
    "model = Sequential([\n",
    "        Dense(256, input_dim=X.shape[-1]), \n",
    "        Activation('relu'), \n",
    "        Dropout(0.4), \n",
    "        Dense(y.shape[-1])\n",
    "    ])\n",
    "model.compile('adadelta', 'mse')"
   ]
  },
  {
   "cell_type": "code",
   "execution_count": 8,
   "metadata": {
    "ExecuteTime": {
     "end_time": "2016-07-03T16:32:02.176000",
     "start_time": "2016-07-03T16:16:45.436000"
    },
    "code_folding": [
     2,
     17
    ],
    "collapsed": false
   },
   "outputs": [
    {
     "name": "stdout",
     "output_type": "stream",
     "text": [
      "Epoch 0\n",
      "1250/1250 - 1s - loss: 1.3721 - val_loss: 0.6726 - 1s/epoch - 963us/step\n",
      "Flipped 49.2525 % of all elements\n",
      "Mean IOU: 0.008471305254443106\n",
      "Mean dist: 0.9091837080502011\n",
      "Mean mse: 0.5046763555327691\n",
      "Epoch 1\n",
      "1250/1250 - 1s - loss: 1.1176 - val_loss: 0.5303 - 967ms/epoch - 774us/step\n",
      "Flipped 7.327500000000001 % of all elements\n",
      "Mean IOU: 0.011399815721083714\n",
      "Mean dist: 0.8242436707482308\n",
      "Mean mse: 0.4186213397753919\n",
      "Epoch 2\n",
      "1250/1250 - 1s - loss: 0.9826 - val_loss: 0.4499 - 915ms/epoch - 732us/step\n",
      "Flipped 5.609999999999999 % of all elements\n",
      "Mean IOU: 0.013708799800145033\n",
      "Mean dist: 0.7627006670339251\n",
      "Mean mse: 0.3623948231216069\n",
      "Epoch 3\n",
      "1250/1250 - 1s - loss: 0.8904 - val_loss: 0.3986 - 841ms/epoch - 673us/step\n",
      "Flipped 4.6274999999999995 % of all elements\n",
      "Mean IOU: 0.01601432357732551\n",
      "Mean dist: 0.7144656251595125\n",
      "Mean mse: 0.32123552277965045\n",
      "Epoch 4\n",
      "1250/1250 - 1s - loss: 0.8221 - val_loss: 0.3618 - 1s/epoch - 807us/step\n",
      "Flipped 3.6275000000000004 % of all elements\n",
      "Mean IOU: 0.018150199779280562\n",
      "Mean dist: 0.6759748890906829\n",
      "Mean mse: 0.28953569556056735\n",
      "Epoch 5\n",
      "1250/1250 - 1s - loss: 0.7680 - val_loss: 0.3334 - 980ms/epoch - 784us/step\n",
      "Flipped 3.2849999999999997 % of all elements\n",
      "Mean IOU: 0.02026576814753941\n",
      "Mean dist: 0.6442740990721969\n",
      "Mean mse: 0.26414983031686684\n",
      "Epoch 6\n",
      "1250/1250 - 1s - loss: 0.7195 - val_loss: 0.3101 - 940ms/epoch - 752us/step\n",
      "Flipped 2.77 % of all elements\n",
      "Mean IOU: 0.022371492138743985\n",
      "Mean dist: 0.6172676856060558\n",
      "Mean mse: 0.24309877008594566\n",
      "Epoch 7\n",
      "1250/1250 - 1s - loss: 0.6729 - val_loss: 0.2906 - 944ms/epoch - 755us/step\n",
      "Flipped 2.5825 % of all elements\n",
      "Mean IOU: 0.02446920967712685\n",
      "Mean dist: 0.5933816035726612\n",
      "Mean mse: 0.22510623510199407\n",
      "Epoch 8\n",
      "1250/1250 - 1s - loss: 0.6316 - val_loss: 0.2739 - 1s/epoch - 964us/step\n",
      "Flipped 2.32 % of all elements\n",
      "Mean IOU: 0.026534779221532575\n",
      "Mean dist: 0.5722426937728456\n",
      "Mean mse: 0.20960142828270667\n",
      "Epoch 9\n",
      "1250/1250 - 1s - loss: 0.5963 - val_loss: 0.2591 - 992ms/epoch - 794us/step\n",
      "Flipped 2.3800000000000003 % of all elements\n",
      "Mean IOU: 0.028742312261432465\n",
      "Mean dist: 0.552962313798465\n",
      "Mean mse: 0.19586478692041\n",
      "Epoch 10\n",
      "1250/1250 - 1s - loss: 0.5659 - val_loss: 0.2461 - 973ms/epoch - 778us/step\n",
      "Flipped 2.3275 % of all elements\n",
      "Mean IOU: 0.030803165326709507\n",
      "Mean dist: 0.5356252207549409\n",
      "Mean mse: 0.18382486586325106\n",
      "Epoch 11\n",
      "1250/1250 - 1s - loss: 0.5371 - val_loss: 0.2344 - 931ms/epoch - 745us/step\n",
      "Flipped 2.025 % of all elements\n",
      "Mean IOU: 0.03280796939313263\n",
      "Mean dist: 0.5192512351922264\n",
      "Mean mse: 0.17295453008793168\n",
      "Epoch 12\n",
      "1250/1250 - 1s - loss: 0.5086 - val_loss: 0.2239 - 988ms/epoch - 791us/step\n",
      "Flipped 1.9875 % of all elements\n",
      "Mean IOU: 0.034913725549100036\n",
      "Mean dist: 0.5045035797777058\n",
      "Mean mse: 0.16323779355232626\n",
      "Epoch 13\n",
      "1250/1250 - 1s - loss: 0.4804 - val_loss: 0.2145 - 910ms/epoch - 728us/step\n",
      "Flipped 2.1125000000000003 % of all elements\n",
      "Mean IOU: 0.03675434701190292\n",
      "Mean dist: 0.490920401991533\n",
      "Mean mse: 0.15446686522377967\n",
      "Epoch 14\n",
      "1250/1250 - 1s - loss: 0.4612 - val_loss: 0.2058 - 931ms/epoch - 745us/step\n",
      "Flipped 1.8175000000000001 % of all elements\n",
      "Mean IOU: 0.03882501064258367\n",
      "Mean dist: 0.47797207458540986\n",
      "Mean mse: 0.14641495408776828\n",
      "Epoch 15\n",
      "1250/1250 - 1s - loss: 0.4364 - val_loss: 0.1979 - 961ms/epoch - 769us/step\n",
      "Flipped 1.825 % of all elements\n",
      "Mean IOU: 0.04080897810478302\n",
      "Mean dist: 0.4658632932867868\n",
      "Mean mse: 0.13907261737570784\n",
      "Epoch 16\n",
      "1250/1250 - 1s - loss: 0.4166 - val_loss: 0.1906 - 889ms/epoch - 711us/step\n",
      "Flipped 1.8950000000000002 % of all elements\n",
      "Mean IOU: 0.04273332043810588\n",
      "Mean dist: 0.45456788594596337\n",
      "Mean mse: 0.13235244544074787\n",
      "Epoch 17\n",
      "1250/1250 - 1s - loss: 0.3957 - val_loss: 0.1839 - 959ms/epoch - 767us/step\n"
     ]
    },
    {
     "ename": "KeyboardInterrupt",
     "evalue": "",
     "output_type": "error",
     "traceback": [
      "\u001b[0;31m---------------------------------------------------------------------------\u001b[0m",
      "\u001b[0;31mKeyboardInterrupt\u001b[0m                         Traceback (most recent call last)",
      "\u001b[1;32m/home/terrell/Desktop/Coding_Projects/neural_nets/Final Project/multiple-rectangles-or-triangles.ipynb Cell 8'\u001b[0m in \u001b[0;36m<cell line: 30>\u001b[0;34m()\u001b[0m\n\u001b[1;32m     <a href='vscode-notebook-cell:/home/terrell/Desktop/Coding_Projects/neural_nets/Final%20Project/multiple-rectangles-or-triangles.ipynb#ch0000007?line=63'>64</a>\u001b[0m     new_order[ind_pred_bbox] \u001b[39m=\u001b[39m ind_exp_bbox\n\u001b[1;32m     <a href='vscode-notebook-cell:/home/terrell/Desktop/Coding_Projects/neural_nets/Final%20Project/multiple-rectangles-or-triangles.ipynb#ch0000007?line=65'>66</a>\u001b[0m flipped_train_y[sample] \u001b[39m=\u001b[39m exp[new_order]\u001b[39m.\u001b[39mflatten()\n\u001b[0;32m---> <a href='vscode-notebook-cell:/home/terrell/Desktop/Coding_Projects/neural_nets/Final%20Project/multiple-rectangles-or-triangles.ipynb#ch0000007?line=67'>68</a>\u001b[0m flipped[sample, epoch] \u001b[39m=\u001b[39m \u001b[39m1.\u001b[39m \u001b[39m-\u001b[39m np\u001b[39m.\u001b[39;49mmean(new_order \u001b[39m==\u001b[39;49m np\u001b[39m.\u001b[39;49marange(num_objects, dtype\u001b[39m=\u001b[39;49m\u001b[39mint\u001b[39;49m))\u001b[39m#np.array_equal(new_order, np.arange(num_objects, dtype=int))  # TODO: Change this to reflect the number of flips.\u001b[39;00m\n\u001b[1;32m     <a href='vscode-notebook-cell:/home/terrell/Desktop/Coding_Projects/neural_nets/Final%20Project/multiple-rectangles-or-triangles.ipynb#ch0000007?line=68'>69</a>\u001b[0m ious_epoch[sample, epoch] \u001b[39m/\u001b[39m\u001b[39m=\u001b[39m num_objects\n\u001b[1;32m     <a href='vscode-notebook-cell:/home/terrell/Desktop/Coding_Projects/neural_nets/Final%20Project/multiple-rectangles-or-triangles.ipynb#ch0000007?line=69'>70</a>\u001b[0m dists_epoch[sample, epoch] \u001b[39m/\u001b[39m\u001b[39m=\u001b[39m num_objects\n",
      "File \u001b[0;32m<__array_function__ internals>:180\u001b[0m, in \u001b[0;36mmean\u001b[0;34m(*args, **kwargs)\u001b[0m\n",
      "File \u001b[0;32m~/Desktop/Image_finder/.venv/lib/python3.10/site-packages/numpy/core/fromnumeric.py:3474\u001b[0m, in \u001b[0;36mmean\u001b[0;34m(a, axis, dtype, out, keepdims, where)\u001b[0m\n\u001b[1;32m   <a href='file:///home/terrell/Desktop/Image_finder/.venv/lib/python3.10/site-packages/numpy/core/fromnumeric.py?line=3470'>3471</a>\u001b[0m     \u001b[39melse\u001b[39;00m:\n\u001b[1;32m   <a href='file:///home/terrell/Desktop/Image_finder/.venv/lib/python3.10/site-packages/numpy/core/fromnumeric.py?line=3471'>3472</a>\u001b[0m         \u001b[39mreturn\u001b[39;00m mean(axis\u001b[39m=\u001b[39maxis, dtype\u001b[39m=\u001b[39mdtype, out\u001b[39m=\u001b[39mout, \u001b[39m*\u001b[39m\u001b[39m*\u001b[39mkwargs)\n\u001b[0;32m-> <a href='file:///home/terrell/Desktop/Image_finder/.venv/lib/python3.10/site-packages/numpy/core/fromnumeric.py?line=3473'>3474</a>\u001b[0m \u001b[39mreturn\u001b[39;00m _methods\u001b[39m.\u001b[39;49m_mean(a, axis\u001b[39m=\u001b[39;49maxis, dtype\u001b[39m=\u001b[39;49mdtype,\n\u001b[1;32m   <a href='file:///home/terrell/Desktop/Image_finder/.venv/lib/python3.10/site-packages/numpy/core/fromnumeric.py?line=3474'>3475</a>\u001b[0m                       out\u001b[39m=\u001b[39;49mout, \u001b[39m*\u001b[39;49m\u001b[39m*\u001b[39;49mkwargs)\n",
      "File \u001b[0;32m~/Desktop/Image_finder/.venv/lib/python3.10/site-packages/numpy/core/_methods.py:179\u001b[0m, in \u001b[0;36m_mean\u001b[0;34m(a, axis, dtype, out, keepdims, where)\u001b[0m\n\u001b[1;32m    <a href='file:///home/terrell/Desktop/Image_finder/.venv/lib/python3.10/site-packages/numpy/core/_methods.py?line=175'>176</a>\u001b[0m         dtype \u001b[39m=\u001b[39m mu\u001b[39m.\u001b[39mdtype(\u001b[39m'\u001b[39m\u001b[39mf4\u001b[39m\u001b[39m'\u001b[39m)\n\u001b[1;32m    <a href='file:///home/terrell/Desktop/Image_finder/.venv/lib/python3.10/site-packages/numpy/core/_methods.py?line=176'>177</a>\u001b[0m         is_float16_result \u001b[39m=\u001b[39m \u001b[39mTrue\u001b[39;00m\n\u001b[0;32m--> <a href='file:///home/terrell/Desktop/Image_finder/.venv/lib/python3.10/site-packages/numpy/core/_methods.py?line=178'>179</a>\u001b[0m ret \u001b[39m=\u001b[39m umr_sum(arr, axis, dtype, out, keepdims, where\u001b[39m=\u001b[39;49mwhere)\n\u001b[1;32m    <a href='file:///home/terrell/Desktop/Image_finder/.venv/lib/python3.10/site-packages/numpy/core/_methods.py?line=179'>180</a>\u001b[0m \u001b[39mif\u001b[39;00m \u001b[39misinstance\u001b[39m(ret, mu\u001b[39m.\u001b[39mndarray):\n\u001b[1;32m    <a href='file:///home/terrell/Desktop/Image_finder/.venv/lib/python3.10/site-packages/numpy/core/_methods.py?line=180'>181</a>\u001b[0m     ret \u001b[39m=\u001b[39m um\u001b[39m.\u001b[39mtrue_divide(\n\u001b[1;32m    <a href='file:///home/terrell/Desktop/Image_finder/.venv/lib/python3.10/site-packages/numpy/core/_methods.py?line=181'>182</a>\u001b[0m             ret, rcount, out\u001b[39m=\u001b[39mret, casting\u001b[39m=\u001b[39m\u001b[39m'\u001b[39m\u001b[39munsafe\u001b[39m\u001b[39m'\u001b[39m, subok\u001b[39m=\u001b[39m\u001b[39mFalse\u001b[39;00m)\n",
      "\u001b[0;31mKeyboardInterrupt\u001b[0m: "
     ]
    }
   ],
   "source": [
    "# Flip bboxes during training.\n",
    "# Note: The validation loss is always quite big here because we don't flip the bounding boxes for the validation data. \n",
    "def IOU(bbox1, bbox2):\n",
    "    '''Calculate overlap between two bounding boxes [x, y, w, h] as the area of intersection over the area of unity'''\n",
    "    x1, y1, w1, h1 = bbox1[0], bbox1[1], bbox1[2], bbox1[3]  # TODO: Check if its more performant if tensor elements are accessed directly below.\n",
    "    x2, y2, w2, h2 = bbox2[0], bbox2[1], bbox2[2], bbox2[3]\n",
    "\n",
    "    w_I = min(x1 + w1, x2 + w2) - max(x1, x2)\n",
    "    h_I = min(y1 + h1, y2 + h2) - max(y1, y2)\n",
    "    if w_I <= 0 or h_I <= 0:  # no overlap\n",
    "        return 0\n",
    "    I = w_I * h_I\n",
    "\n",
    "    U = w1 * h1 + w2 * h2 - I\n",
    "\n",
    "    return I / U\n",
    "\n",
    "def dist(bbox1, bbox2):\n",
    "    return np.sqrt(np.sum(np.square(bbox1[:2] - bbox2[:2])))\n",
    "\n",
    "num_epochs_flipping = 500\n",
    "num_epochs_no_flipping = 0  # has no significant effect\n",
    "flipped_train_y = np.array(train_y)\n",
    "flipped = np.zeros((len(flipped_train_y), num_epochs_flipping + num_epochs_no_flipping))\n",
    "ious_epoch = np.zeros((len(flipped_train_y), num_epochs_flipping + num_epochs_no_flipping))\n",
    "dists_epoch = np.zeros((len(flipped_train_y), num_epochs_flipping + num_epochs_no_flipping))\n",
    "mses_epoch = np.zeros((len(flipped_train_y), num_epochs_flipping + num_epochs_no_flipping))\n",
    "\n",
    "# TODO: Calculate ious directly for all samples (using slices of the array pred_y for x, y, w, h).\n",
    "for epoch in range(num_epochs_flipping):\n",
    "    print('Epoch', epoch)\n",
    "    model.fit(train_X, flipped_train_y, epochs=1, validation_data=(test_X, test_y), verbose=2)\n",
    "    pred_y = model.predict(train_X)\n",
    "\n",
    "    for sample, (pred, exp) in enumerate(zip(pred_y, flipped_train_y)):\n",
    "        \n",
    "        # TODO: Make this simpler.\n",
    "        pred = pred.reshape(num_objects, -1)\n",
    "        exp = exp.reshape(num_objects, -1)\n",
    "        \n",
    "        pred_bboxes = pred[:, :4]\n",
    "        exp_bboxes = exp[:, :4]\n",
    "        \n",
    "        # TODO: Try flipping array and see if results differ.\n",
    "        ious = np.zeros((num_objects, num_objects))\n",
    "        dists = np.zeros((num_objects, num_objects))\n",
    "        mses = np.zeros((num_objects, num_objects))\n",
    "        for i, exp_bbox in enumerate(exp_bboxes):\n",
    "            for j, pred_bbox in enumerate(pred_bboxes):\n",
    "                ious[i, j] = IOU(exp_bbox, pred_bbox)\n",
    "                dists[i, j] = dist(exp_bbox, pred_bbox)\n",
    "                mses[i, j] = np.mean(np.square(exp_bbox - pred_bbox))\n",
    "                \n",
    "        new_order = np.zeros(num_objects, dtype=int)\n",
    "        \n",
    "        for i in range(num_objects):\n",
    "            # Find pred and exp bbox with maximum iou and assign them to each other (i.e. switch the positions of the exp bboxes in y).\n",
    "            ind_exp_bbox, ind_pred_bbox = np.unravel_index(mses.argmin(), mses.shape)\n",
    "            ious_epoch[sample, epoch] += ious[ind_exp_bbox, ind_pred_bbox]\n",
    "            dists_epoch[sample, epoch] += dists[ind_exp_bbox, ind_pred_bbox]\n",
    "            mses_epoch[sample, epoch] += mses[ind_exp_bbox, ind_pred_bbox]\n",
    "            mses[ind_exp_bbox] = 1000000#-1  # set iou of assigned bboxes to -1, so they don't get assigned again\n",
    "            mses[:, ind_pred_bbox] = 10000000#-1\n",
    "            new_order[ind_pred_bbox] = ind_exp_bbox\n",
    "        \n",
    "        flipped_train_y[sample] = exp[new_order].flatten()\n",
    "        \n",
    "        flipped[sample, epoch] = 1. - np.mean(new_order == np.arange(num_objects, dtype=int))#np.array_equal(new_order, np.arange(num_objects, dtype=int))  # TODO: Change this to reflect the number of flips.\n",
    "        ious_epoch[sample, epoch] /= num_objects\n",
    "        dists_epoch[sample, epoch] /= num_objects\n",
    "        mses_epoch[sample, epoch] /= num_objects\n",
    "        \n",
    "            \n",
    "    print ('Flipped {} % of all elements'.format(np.mean(flipped[:, epoch]) * 100.))\n",
    "    print ('Mean IOU: {}'.format(np.mean(ious_epoch[:, epoch])))\n",
    "    print ('Mean dist: {}'.format(np.mean(dists_epoch[:, epoch])))\n",
    "    print ('Mean mse: {}'.format(np.mean(mses_epoch[:, epoch])))\n",
    "    print\n",
    "    \n",
    "# print '------------------------------------'\n",
    "# print 'Training now without flipping bboxes'\n",
    "# print '------------------------------------'\n",
    "    \n",
    "# for epoch in range(num_epochs_flipping, num_epochs_flipping + num_epochs_no_flipping):\n",
    "#     print 'Epoch', epoch\n",
    "#     model.fit(train_X, flipped_train_y, nb_epoch=1, validation_data=(test_X, test_y), verbose=2)\n",
    "#     pred_y = model.predict(train_X)\n",
    "\n",
    "#     # Calculate iou/dist, but don't flip.\n",
    "#     for sample, (pred_bboxes, exp_bboxes) in enumerate(zip(pred_y, flipped_train_y)):\n",
    "        \n",
    "#         pred_bboxes = pred_bboxes.reshape(num_objects, -1)\n",
    "#         exp_bboxes = exp_bboxes.reshape(num_objects, -1)        \n",
    "        \n",
    "#         for exp_bbox, pred_bbox in zip(exp_bboxes, pred_bboxes):\n",
    "#             ious_epoch[sample, epoch] += IOU(exp_bbox, pred_bbox)\n",
    "#             dists_epoch[sample, epoch] += dist(exp_bbox, pred_bbox)\n",
    "#             mses_epoch[sample, epoch] += np.mean(np.square(exp_bbox - pred_bbox))\n",
    "            \n",
    "#         ious_epoch[sample, epoch] /= num_objects\n",
    "#         dists_epoch[sample, epoch] /= num_objects \n",
    "#         mses_epoch[sample, epoch] /= num_objects \n",
    "            \n",
    "# #     print 'Flipped {} % of all elements'.format(np.mean(flipped[:, epoch]) * 100.)\n",
    "#     print 'Mean IOU: {}'.format(np.mean(ious_epoch[:, epoch]))\n",
    "#     print 'Mean dist: {}'.format(np.mean(dists_epoch[:, epoch]))\n",
    "#     print 'Mean mse: {}'.format(np.mean(mses_epoch[:, epoch]))\n",
    "#     print\n",
    "    \n",
    "# TODO: Calculate IOU and dist for validation data during training."
   ]
  },
  {
   "cell_type": "code",
   "execution_count": null,
   "metadata": {
    "ExecuteTime": {
     "end_time": "2016-07-03T16:32:11.172000",
     "start_time": "2016-07-03T16:32:07.209000"
    },
    "collapsed": false
   },
   "outputs": [
    {
     "data": {
      "text/plain": [
       "Text(0, 0.5, 'Training sample')"
      ]
     },
     "execution_count": 33,
     "metadata": {},
     "output_type": "execute_result"
    },
    {
     "data": {
      "image/png": "[encoded data removed]",
      "text/plain": [
       "<Figure size 432x288 with 1 Axes>"
      ]
     },
     "metadata": {
      "needs_background": "light"
     },
     "output_type": "display_data"
    }
   ],
   "source": [
    "plt.pcolor(flipped[:1000], cmap='Greys', vmax=1.)\n",
    "# plt.axvline(num_epochs_flipping, c='r')\n",
    "plt.xlabel('Epoch')\n",
    "plt.ylabel('Training sample')"
   ]
  },
  {
   "cell_type": "code",
   "execution_count": null,
   "metadata": {
    "ExecuteTime": {
     "end_time": "2016-07-03T16:32:15.670000",
     "start_time": "2016-07-03T16:32:15.223000"
    },
    "collapsed": false
   },
   "outputs": [
    {
     "data": {
      "text/plain": [
       "(0.0, 1.0)"
      ]
     },
     "execution_count": 34,
     "metadata": {},
     "output_type": "execute_result"
    },
    {
     "data": {
      "image/png": "[encoded data removed]",
      "text/plain": [
       "<Figure size 432x288 with 1 Axes>"
      ]
     },
     "metadata": {
      "needs_background": "light"
     },
     "output_type": "display_data"
    }
   ],
   "source": [
    "mean_ious_epoch = np.mean(ious_epoch, axis=0)\n",
    "mean_dists_epoch = np.mean(dists_epoch, axis=0)\n",
    "mean_mses_epoch = np.mean(mses_epoch, axis=0)\n",
    "plt.plot(mean_ious_epoch, label='Mean IOU')  # between predicted and assigned true bboxes\n",
    "plt.plot(mean_dists_epoch, label='Mean distance')  # relative to image size\n",
    "plt.plot(mean_mses_epoch, label='Mean mse')  # relative to image size\n",
    "plt.annotate(np.round(np.max(mean_ious_epoch), 3), (len(mean_ious_epoch)-1, mean_ious_epoch[-1]+0.03), horizontalalignment='right', color='b')\n",
    "plt.annotate(np.round(np.min(mean_dists_epoch), 3), (len(mean_dists_epoch)-1, mean_dists_epoch[-1]+0.03), horizontalalignment='right', color='g')\n",
    "plt.annotate(np.round(np.min(mean_mses_epoch), 3), (len(mean_mses_epoch)-1, mean_mses_epoch[-1]+0.03), horizontalalignment='right', color='r')\n",
    "# plt.axvline(num_epochs_flipping, c='r')\n",
    "plt.xlabel('Epoch')\n",
    "plt.legend()\n",
    "plt.ylim(0, 1)\n",
    "\n",
    "# plt.savefig('plots/bw-multiple-rectangles-mse.png', dpi=300)"
   ]
  },
  {
   "cell_type": "code",
   "execution_count": null,
   "metadata": {
    "ExecuteTime": {
     "end_time": "2016-07-03T16:32:21.325000",
     "start_time": "2016-07-03T16:32:20.874000"
    },
    "collapsed": false
   },
   "outputs": [
    {
     "data": {
      "text/plain": [
       "((10000, 2, 4), (10000, 2, 1))"
      ]
     },
     "execution_count": 35,
     "metadata": {},
     "output_type": "execute_result"
    }
   ],
   "source": [
    "pred_y = model.predict(test_X)\n",
    "pred_y = pred_y.reshape(len(pred_y), num_objects, -1)\n",
    "pred_bboxes = pred_y[..., :4] * img_size\n",
    "pred_shapes = pred_y[..., 4:5]\n",
    "pred_bboxes.shape, pred_shapes.shape"
   ]
  },
  {
   "cell_type": "code",
   "execution_count": null,
   "metadata": {
    "ExecuteTime": {
     "end_time": "2016-07-03T16:33:28.201000",
     "start_time": "2016-07-03T16:33:26.046000"
    },
    "collapsed": false
   },
   "outputs": [
    {
     "data": {
      "image/png": "[encoded data removed]",
      "text/plain": [
       "<Figure size 1152x576 with 8 Axes>"
      ]
     },
     "metadata": {
      "needs_background": "light"
     },
     "output_type": "display_data"
    }
   ],
   "source": [
    "plt.figure(figsize=(16, 8))\n",
    "for i_subplot in range(1, 9):\n",
    "    plt.subplot(2, 4, i_subplot)\n",
    "    i = np.random.randint(len(test_X))\n",
    "    plt.imshow(test_imgs[i].T, cmap='Greys', interpolation='none', origin='lower', extent=[0, img_size, 0, img_size])\n",
    "    for pred_bbox, exp_bbox, pred_shape in zip(pred_bboxes[i], test_bboxes[i], pred_shapes[i]):\n",
    "        plt.gca().add_patch(matplotlib.patches.Rectangle((pred_bbox[0], pred_bbox[1]), pred_bbox[2], pred_bbox[3], ec='r' if pred_shape[0] <= 0.5 else 'y', fc='none'))\n",
    "        # TODO: Calculate max IOU with all expected bounding boxes.\n",
    "#         plt.annotate('IOU: {:.2f}'.format(IOU(pred_bbox, exp_bbox)), (pred_bbox[0], pred_bbox[1]+pred_bbox[3]+0.4), color='r')"
   ]
  },
  {
   "cell_type": "code",
   "execution_count": null,
   "metadata": {
    "collapsed": true
   },
   "outputs": [],
   "source": []
  }
 ],
 "metadata": {
  "interpreter": {
   "hash": "ebef853f5790e8ab6abce5257746833c1872748520f70e4a841069f89079ad51"
  },
  "kernelspec": {
   "display_name": "Python 2",
   "language": "python",
   "name": "python3"
  },
  "language_info": {
   "codemirror_mode": {
    "name": "ipython",
    "version": 3
   },
   "file_extension": ".py",
   "mimetype": "text/x-python",
   "name": "python",
   "nbconvert_exporter": "python",
   "pygments_lexer": "ipython3",
   "version": "3.10.3"
  }
 },
 "nbformat": 4,
 "nbformat_minor": 0
}
